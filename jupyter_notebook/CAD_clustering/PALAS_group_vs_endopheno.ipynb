{
 "cells": [
  {
   "cell_type": "code",
   "execution_count": 68,
   "metadata": {
    "vscode": {
     "languageId": "r"
    }
   },
   "outputs": [],
   "source": [
    "options(stringsAsFactors=F)\n",
    "options(max.print=1000)\n",
    "suppressPackageStartupMessages(library(data.table))\n",
    "suppressPackageStartupMessages(library(ggplot2))\n",
    "suppressPackageStartupMessages(library(ggsci))\n",
    "suppressPackageStartupMessages(library(ggrepel))\n",
    "suppressPackageStartupMessages(library(gridExtra))\n",
    "suppressPackageStartupMessages(library(RColorBrewer))\n",
    "suppressPackageStartupMessages(library(circlize))\n",
    "suppressPackageStartupMessages(library(ggpubr))\n",
    "suppressPackageStartupMessages(library(corrplot))\n",
    "suppressPackageStartupMessages(library(igraph))\n",
    "suppressPackageStartupMessages(library(cowplot))\n",
    "suppressPackageStartupMessages(library(ggsignif))\n",
    "suppressPackageStartupMessages(library(ggpubr))\n",
    "suppressPackageStartupMessages(library(tidyverse))\n",
    "suppressPackageStartupMessages(library(scales))\n",
    "suppressPackageStartupMessages(library(ComplexHeatmap))\n",
    "suppressPackageStartupMessages(library(VennDiagram))\n",
    "suppressPackageStartupMessages(library(qvalue))\n",
    "options(bitmapType = 'cairo', device = 'png')\n",
    "\n",
    "setwd('/psycl/g/mpsziller/lucia/CAD_UKBB/eQTL_PROJECT')\n",
    "fold_notebook <- '/psycl/g/mpsziller/lucia/castom_cad_scz/jupyter_notebook/'\n",
    "fold_cl <- \"OUTPUT_GTEx/predict_CAD/Liver/200kb/CAD_GWAS_bin5e-2/UKBB/devgeno0.01_testdevgeno0/CAD_HARD_clustering/update_corrPCs/\"\n",
    "file_cl <- \"OUTPUT_GTEx/predict_CAD/Liver/200kb/CAD_GWAS_bin5e-2/UKBB/devgeno0.01_testdevgeno0/CAD_HARD_clustering/update_corrPCs/tscore_corrPCs_zscaled_clusterCases_PGmethod_HKmetric.RData\"\n",
    "fold <- \"OUTPUT_GTEx/predict_CAD/AllTissues/200kb/CAD_GWAS_bin5e-2/UKBB/\"\n",
    "filt_path_file <- \"pathOriginal_filtJS0.2_corrPCs_tscoreClusterCases_featAssociation.RData\"\n",
    "outFold <- sprintf('%sCAD_clustering/', fold_notebook)\n",
    "\n",
    "cl <- get(load(file_cl))\n",
    "n_gr <- length(unique(cl$cl_best$gr))\n",
    "tscore_gr <- list()\n",
    "pathR_gr <- list()\n",
    "pathGO_gr <- list()\n",
    "path_gr <- list()\n",
    "\n",
    "for(i in 1:n_gr){\n",
    "    tscore_gr[[i]] <- read.table(sprintf('%scluster_specific_PALAS/tscore_pval_ClusterCasesVSControls_gr%i.txt', fold_cl, i), \n",
    "                                 header=T, sep = \"\\t\", stringsAsFactors = F) \n",
    "    tscore_gr[[i]] <- tscore_gr[[i]] %>% \n",
    "        dplyr::mutate(feat_tissue = paste0(ensembl_gene_id, \"_\", tissue))\n",
    "\n",
    "    pathR_gr[[i]] <- read.delim(sprintf('%scluster_specific_PALAS/path_Reactome_pval_ClusterCasesVSControls_gr%i_filt.txt', fold_cl, i), \n",
    "                                header=T, sep = \"\\t\", stringsAsFactors = F)\n",
    "    pathGO_gr[[i]] <- read.delim(sprintf('%scluster_specific_PALAS/path_GO_pval_ClusterCasesVSControls_gr%i_filt.txt', fold_cl, i), \n",
    "                                header=T, sep = \"\\t\", stringsAsFactors = F)\n",
    "\n",
    "    colnames_path <- intersect(colnames(pathR_gr[[i]]), colnames(pathGO_gr[[i]]))\n",
    "\n",
    "    pathR_gr[[i]] <- pathR_gr[[i]] %>% \n",
    "        dplyr::select(all_of(colnames_path)) %>%\n",
    "        dplyr::mutate(feat_tissue = paste0(path, \"_\", tissue)) %>%\n",
    "        dplyr::mutate(type = \"Reactome\")\n",
    "\n",
    "    pathGO_gr[[i]] <- pathGO_gr[[i]] %>% \n",
    "        dplyr::select(all_of(colnames_path)) %>%\n",
    "        dplyr::mutate(feat_tissue = paste0(path, \"_\", tissue)) %>%\n",
    "        dplyr::mutate(type = \"GO\")\n",
    "    \n",
    "    path_gr[[i]] <- bind_rows(\n",
    "        pathR_gr[[i]], pathGO_gr[[i]]) %>%\n",
    "        dplyr::mutate(full_id = paste(feat_tissue, type, sep = \"_\"))\n",
    "    \n",
    "}\n",
    "\n",
    "endop_tissue <- read_tsv(sprintf('%s/filter_endopheno/tscore_corrPCs_zscaled_clusterCases_PGmethod_HKmetric_phenoAssociation_GLM_combined_keepPhenoClass.txt', fold_cl), \n",
    "                        show_col_types = FALSE)\n",
    "pheno_class <- unique(endop_tissue$pheno_type)\n",
    "# get only significant endophenotypes classes\n",
    "pheno_class_sign <- endop_tissue %>% filter(pval_corr <= 0.1) %>% pull(pheno_type) %>% unique() \n",
    "\n",
    "tissues <- unique(tscore_gr[[1]]$tissue)"
   ]
  },
  {
   "cell_type": "code",
   "execution_count": 46,
   "metadata": {
    "vscode": {
     "languageId": "r"
    }
   },
   "outputs": [],
   "source": [
    "# create a function to remove pathway with 1 gene and recompute pvalues\n",
    "recompte_path <- function(tissues_name, res, id_pval){\n",
    "  tmp <- lapply(tissues_name, function(x) res[res$tissue == x & res$ngenes_tscore>1,])\n",
    "  for(i in 1:length(tmp)){\n",
    "    tmp[[i]][, id_pval+1] <- qvalue(tmp[[i]][, id_pval])$qvalue\n",
    "    tmp[[i]][, id_pval+2] <- p.adjust(tmp[[i]][, id_pval], method = 'BH')\n",
    "  }\n",
    "  tmp <- do.call(rbind, tmp)\n",
    "  return(tmp)\n",
    "}\n",
    "\n",
    "load_TWAS_PALAS_perclass <- function(tissues, pheno_id){\n",
    "\n",
    "  df_tscore <- df_pathR <- df_pathGO <- list()\n",
    "  for(i in 1:length(tissues)){\n",
    "  \n",
    "    #print(t)\n",
    "\n",
    "    t <- tissues[i]\n",
    "    fold_PALAS <- sprintf(\"OUTPUT_GTEx/predict_CAD/%s/200kb/CAD_GWAS_bin5e-2/UKBB/devgeno0.01_testdevgeno0/\", t)\n",
    "    res_file <- sprintf(\"%spval_%s_pheno_covCorr.RData\", fold_PALAS, pheno_id)\n",
    "    tmp <- get(load(res_file))\n",
    "    n_pheno <- nrow(tmp$pheno)\n",
    "\n",
    "    df_tscore[[i]] <- list()\n",
    "    df_pathR[[i]] <- list()\n",
    "    df_pathGO[[i]] <- list()\n",
    "\n",
    "    for(j in 1:n_pheno){\n",
    "\n",
    "      tmp$tscore[[j]]$tissue <- t\n",
    "      tmp$pathScore_reactome[[j]]$tissue <- t\n",
    "      tmp$pathScore_GO[[j]]$tissue <- t\n",
    "      tmp$pathScore_reactome[[j]]$genes_path <- tmp$pathScore_reactome[[j]]$improvement_sign <- NA\n",
    "      tmp$pathScore_GO[[j]]$genes_path <- tmp$pathScore_GO[[j]]$improvement_sign <- NA\n",
    "\n",
    "    for(k in 1:nrow(tmp$pathScore_reactome[[j]])){\n",
    "      tmp$pathScore_reactome[[j]]$genes_path[k] <- paste0(tmp$info_pathScore_reactome[[j]][[k]]$tscore$external_gene_name, collapse = ',')\n",
    "      tmp$pathScore_reactome[[j]]$improvement_sign[k] <- all(tmp$info_pathScore_reactome[[j]][[k]]$tscore[,8] > tmp$pathScore_reactome[[j]][k,13])\n",
    "    }\n",
    "\n",
    "    for(k in 1:nrow(tmp$pathScore_GO[[j]])){\n",
    "      tmp$pathScore_GO[[j]]$genes_path[k] <- paste0(tmp$info_pathScore_GO[[j]][[k]]$tscore$external_gene_name, collapse = ',')\n",
    "      tmp$pathScore_GO[[j]]$improvement_sign[k] <- all(tmp$info_pathScore_GO[[j]][[k]]$tscore[,8] > tmp$pathScore_GO[[j]][k,15])\n",
    "    }\n",
    "    df_tscore[[i]][[j]] <- tmp$tscore[[j]]\n",
    "    df_pathR[[i]][[j]] <- tmp$pathScore_reactome[[j]]\n",
    "    df_pathGO[[i]][[j]] <- tmp$pathScore_GO[[j]]\n",
    "    }\n",
    "  }\n",
    "  df_tscore_all <- lapply(1:n_pheno, function(x) do.call(rbind, lapply(1:length(tissues), function(y) df_tscore[[y]][[x]])))\n",
    "  df_pathR_all <- lapply(1:n_pheno, function(x) do.call(rbind, lapply(1:length(tissues), function(y) df_pathR[[y]][[x]])))\n",
    "  df_pathGO_all <- lapply(1:n_pheno, function(x) do.call(rbind, lapply(1:length(tissues), function(y) df_pathGO[[y]][[x]])))\n",
    "\n",
    "  # filter out pathways with only 1 gene\n",
    "  df_pathR_all_red <- lapply(df_pathR_all, function(x) recompte_path(res = x, tissues_name = tissues, id_pval = 13))\n",
    "  df_pathGO_all_red <- lapply(df_pathGO_all, function(x) recompte_path(res = x, tissues_name = tissues, id_pval = 15))\n",
    "\n",
    "  out <- list(pheno = tmp$pheno %>% mutate(pheno_type = pheno_id), \n",
    "              tscore = df_tscore_all, \n",
    "              pathR = df_pathR_all_red, \n",
    "              pathGO = df_pathGO_all_red)\n",
    "  return(out)\n",
    "}"
   ]
  },
  {
   "cell_type": "code",
   "execution_count": 44,
   "metadata": {
    "vscode": {
     "languageId": "r"
    }
   },
   "outputs": [
    {
     "name": "stdout",
     "output_type": "stream",
     "text": [
      "[1] \"Blood_biochemistry\"\n",
      "[1] \"Whole_Blood\"\n",
      "[1] \"Adipose_Subcutaneous\"\n",
      "[1] \"Adipose_Visceral_Omentum\"\n",
      "[1] \"Adrenal_Gland\"\n",
      "[1] \"Artery_Aorta\"\n",
      "[1] \"Artery_Coronary\"\n",
      "[1] \"Colon_Sigmoid\"\n",
      "[1] \"Colon_Transverse\"\n",
      "[1] \"Heart_Atrial_Appendage\"\n",
      "[1] \"Heart_Left_Ventricle\"\n",
      "[1] \"Liver\"\n",
      "[1] \"Blood_count\"\n",
      "[1] \"Whole_Blood\"\n",
      "[1] \"Adipose_Subcutaneous\"\n",
      "[1] \"Adipose_Visceral_Omentum\"\n",
      "[1] \"Adrenal_Gland\"\n",
      "[1] \"Artery_Aorta\"\n",
      "[1] \"Artery_Coronary\"\n",
      "[1] \"Colon_Sigmoid\"\n",
      "[1] \"Colon_Transverse\"\n",
      "[1] \"Heart_Atrial_Appendage\"\n",
      "[1] \"Heart_Left_Ventricle\"\n",
      "[1] \"Liver\"\n"
     ]
    }
   ],
   "source": [
    "# load TWAS and PALAS for endophenotypes\n",
    "out <- list()\n",
    "# for(i in 1:length(pheno_class_sign)){\n",
    "for(i in 1:2){\n",
    "  pheno_id <- pheno_class_sign[i]\n",
    "  print(pheno_id)\n",
    "  out[[i]] <- load_TWAS_PALAS_phenoclass(tissues, pheno_id)\n",
    "}"
   ]
  },
  {
   "cell_type": "code",
   "execution_count": 70,
   "metadata": {
    "vscode": {
     "languageId": "r"
    }
   },
   "outputs": [],
   "source": [
    "# create a list of dataframes, each dataframe contains all the pathways/tscore results across all tissues for a single phenotype\n",
    "# the order of phenotypes in list is the same as they appear in pheno_all\n",
    "\n",
    "pheno_all <- do.call(rbind, lapply(1:length(out), function(x) out[[x]]$pheno))\n",
    "\n",
    "tscore_all <- unlist(lapply(1:length(out), function(x) out[[x]]$tscore), recursive = FALSE)\n",
    "pathR_all <-  unlist(lapply(1:length(out), function(x) out[[x]]$pathR), recursive = FALSE)\n",
    "pathGO_all <-  unlist(lapply(1:length(out), function(x) out[[x]]$pathGO), recursive = FALSE)\n",
    "\n",
    "path_all <- list()\n",
    "for(i in 1:nrow(pheno_all)){\n",
    "    \n",
    "    colnames_path <- intersect(colnames(pathR_all[[i]]), colnames(pathGO_all[[i]]))\n",
    "\n",
    "    pathR_all[[i]] <- pathR_all[[i]] %>% \n",
    "        dplyr::select(all_of(colnames_path)) %>%\n",
    "        dplyr::mutate(feat_tissue = paste0(path, \"_\", tissue)) %>%\n",
    "        dplyr::mutate(type = \"Reactome\")\n",
    "\n",
    "    pathGO_all[[i]] <- pathGO_all[[i]] %>% \n",
    "        dplyr::select(all_of(colnames_path)) %>%\n",
    "        dplyr::mutate(feat_tissue = paste0(path, \"_\", tissue)) %>%\n",
    "        dplyr::mutate(type = \"GO\")\n",
    "    \n",
    "    path_all[[i]] <- bind_rows(\n",
    "        pathR_all[[i]], pathGO_all[[i]]) %>%\n",
    "        dplyr::mutate(full_id = paste(feat_tissue, type, sep = \"_\"))\n",
    "}\n"
   ]
  },
  {
   "cell_type": "code",
   "execution_count": 102,
   "metadata": {
    "vscode": {
     "languageId": "r"
    }
   },
   "outputs": [
    {
     "name": "stderr",
     "output_type": "stream",
     "text": [
      "Warning message in chisq.test(xx, correct = correction):\n",
      "“Chi-squared approximation may be incorrect”\n"
     ]
    },
    {
     "ename": "ERROR",
     "evalue": "Error in uniroot(function(or) {: f() values at end points not of opposite sign\n",
     "output_type": "error",
     "traceback": [
      "Error in uniroot(function(or) {: f() values at end points not of opposite sign\nTraceback:\n",
      "1. cbind(pheno_all[i, , drop = F], as.data.frame(t(oddsratio(data)$measure[\"FDR < 0.05\", \n .     ])))",
      "2. cbind(deparse.level, ...)",
      "3. data.frame(..., check.names = FALSE)",
      "4. as.data.frame(t(oddsratio(data)$measure[\"FDR < 0.05\", ]))",
      "5. t(oddsratio(data)$measure[\"FDR < 0.05\", ])",
      "6. oddsratio(data)",
      "7. oddsratio.midp(x, conf.level = conf.level, verbose = verbose, \n .     correction = correction)",
      "8. or.midp(tmpx, conf.level = conf.level, interval = interval)",
      "9. uniroot(function(or) {\n .     1 - midp(a1, a0, b1, b0, or) - alpha/2\n . }, interval = interval)",
      "10. stop(if (doX) \"did not succeed extending the interval endpoints for f(lower) * f(upper) <= 0\" else \"f() values at end points not of opposite sign\")"
     ]
    }
   ],
   "source": [
    "library(epitools)\n",
    "pval_corr_thr <- 0.05\n",
    "id_zstat <- 12\n",
    "id_pval_corr <- 15\n",
    "\n",
    "# compute correlations for each pair of group and endophenotype\n",
    "corr_res <- list()\n",
    "OR_res <- list()\n",
    "\n",
    "for(i in 1:n_gr){\n",
    "    corr_res[[i]] <- pheno_all %>% \n",
    "        mutate(group = paste0(\"gr\", i)) %>%\n",
    "        mutate(corr = sapply(path_all, function(x) cor.test(path_gr[[i]][, id_zstat], x[, id_zstat])$estimate)) %>%\n",
    "        mutate(corr_pvalue = sapply(path_all, function(x) cor.test(path_gr[[i]][, id_zstat], x[, id_zstat])$p.value)) \n",
    "    \n",
    "    df <- list()\n",
    "    for(j in 1:nrow(pheno_all)){\n",
    "        data <- table(path_all[[j]][, id_pval_corr] <= pval_corr_thr, path_gr[[i]][,id_pval_corr] <= pval_corr_thr)\n",
    "        dimnames(data) <- list('Group' = c(\"FDR > 0.05\", \"FDR < 0.05\"), 'Pheno' = c(\"FDR > 0.05\", \"FDR < 0.05\"))\n",
    "\n",
    "        tryCatch(tmp <- as.data.frame(t(oddsratio(data)$measure[\"FDR < 0.05\",])) %>% \n",
    "            mutate(gr = paste0(\"gr\", i), \n",
    "                   pvalue = oddsratio(data)$p.value[\"FDR < 0.05\", 2]), \n",
    "            error = function(e) tmp <- data.frame(OR = NA, LL = NA, UL = NA))\n",
    "        df[[j]] <- cbind(pheno_all[i,, drop = F], ) \n",
    "\n",
    "    }\n",
    "    df <- bind_rows(df)\n",
    "    OR_res[[i]] <- df\n",
    "   \n",
    "}\n",
    "corr_res <- bind_rows(corr_res) \n",
    "OR_res <- bind_rows(OR_res)\n"
   ]
  },
  {
   "cell_type": "code",
   "execution_count": 106,
   "metadata": {
    "vscode": {
     "languageId": "r"
    }
   },
   "outputs": [
    {
     "data": {
      "text/plain": [
       "< table of extent 0 >"
      ]
     },
     "metadata": {},
     "output_type": "display_data"
    },
    {
     "ename": "ERROR",
     "evalue": "Error in uniroot(function(or) {: f() values at end points not of opposite sign\n",
     "output_type": "error",
     "traceback": [
      "Error in uniroot(function(or) {: f() values at end points not of opposite sign\nTraceback:\n",
      "1. t(oddsratio(data)$measure[\"FDR < 0.05\", ])",
      "2. oddsratio(data)",
      "3. oddsratio.midp(x, conf.level = conf.level, verbose = verbose, \n .     correction = correction)",
      "4. or.midp(tmpx, conf.level = conf.level, interval = interval)",
      "5. uniroot(function(or) {\n .     1 - midp(a1, a0, b1, b0, or) - alpha/2\n . }, interval = interval)",
      "6. stop(if (doX) \"did not succeed extending the interval endpoints for f(lower) * f(upper) <= 0\" else \"f() values at end points not of opposite sign\")"
     ]
    }
   ],
   "source": [
    "table(corr_res$corr_pvalue <= 0.05)\n",
    "t(oddsratio(data)$measure[\"FDR < 0.05\",])"
   ]
  },
  {
   "cell_type": "code",
   "execution_count": null,
   "metadata": {
    "vscode": {
     "languageId": "r"
    }
   },
   "outputs": [],
   "source": []
  }
 ],
 "metadata": {
  "kernelspec": {
   "display_name": "R",
   "language": "R",
   "name": "ir"
  },
  "language_info": {
   "codemirror_mode": "r",
   "file_extension": ".r",
   "mimetype": "text/x-r-source",
   "name": "R",
   "pygments_lexer": "r",
   "version": "4.0.3"
  },
  "orig_nbformat": 4
 },
 "nbformat": 4,
 "nbformat_minor": 2
}
