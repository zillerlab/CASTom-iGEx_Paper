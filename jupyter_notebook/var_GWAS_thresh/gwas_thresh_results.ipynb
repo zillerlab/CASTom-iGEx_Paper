{
 "cells": [
  {
   "cell_type": "markdown",
   "id": "2a1da411-bf0e-4be7-a1e8-91b9ae4f645e",
   "metadata": {},
   "source": [
    "#### **GWAS thresh results**\n",
    "13-10-2023"
   ]
  },
  {
   "cell_type": "code",
   "execution_count": 1,
   "id": "e942a773-259b-4507-9301-e0fc1bb16f03",
   "metadata": {},
   "outputs": [
    {
     "name": "stderr",
     "output_type": "stream",
     "text": [
      "corrplot 0.92 loaded\n",
      "\n",
      "\n",
      "Attaching package: ‘dplyr’\n",
      "\n",
      "\n",
      "The following objects are masked from ‘package:data.table’:\n",
      "\n",
      "    between, first, last\n",
      "\n",
      "\n",
      "The following objects are masked from ‘package:stats’:\n",
      "\n",
      "    filter, lag\n",
      "\n",
      "\n",
      "The following objects are masked from ‘package:base’:\n",
      "\n",
      "    intersect, setdiff, setequal, union\n",
      "\n",
      "\n",
      "========================================\n",
      "circlize version 0.4.15\n",
      "CRAN page: https://cran.r-project.org/package=circlize\n",
      "Github page: https://github.com/jokergoo/circlize\n",
      "Documentation: https://jokergoo.github.io/circlize_book/book/\n",
      "\n",
      "If you use it in published research, please cite:\n",
      "Gu, Z. circlize implements and enhances circular visualization\n",
      "  in R. Bioinformatics 2014.\n",
      "\n",
      "This message can be suppressed by:\n",
      "  suppressPackageStartupMessages(library(circlize))\n",
      "========================================\n",
      "\n",
      "\n"
     ]
    },
    {
     "data": {
      "text/html": [
       "'C'"
      ],
      "text/latex": [
       "'C'"
      ],
      "text/markdown": [
       "'C'"
      ],
      "text/plain": [
       "[1] \"C\""
      ]
     },
     "metadata": {},
     "output_type": "display_data"
    }
   ],
   "source": [
    "library(ggplot2)\n",
    "library(ggpubr)\n",
    "library(corrplot)\n",
    "library(RColorBrewer)\n",
    "library(ggrepel)\n",
    "library(argparse)\n",
    "library(Matrix)\n",
    "library(data.table)\n",
    "library(dplyr)\n",
    "library(circlize)\n",
    "library(ggrepel)\n",
    "library(ComplexUpset)\n",
    "\n",
    "options(bitmapType = 'cairo')\n",
    "Sys.setlocale(\"LC_NUMERIC\", \"C\")"
   ]
  },
  {
   "cell_type": "code",
   "execution_count": 2,
   "id": "0b6072b8-7c09-4140-828e-0be00a7cebdf",
   "metadata": {},
   "outputs": [],
   "source": [
    "color_tissues <- fread(sprintf('%scolor_tissues.txt', \"~/tools/castom_cad_scz/jupyter_notebook/\"), h=T, stringsAsFactors=F, data.table = F)"
   ]
  },
  {
   "cell_type": "code",
   "execution_count": 3,
   "id": "5b377105-d5d5-4577-9e0e-a429c561360c",
   "metadata": {},
   "outputs": [],
   "source": [
    "results_dir <- \"/scratch/tmp/dolgalev/castom-igex-revision/results/gwas_thresh/\""
   ]
  },
  {
   "cell_type": "code",
   "execution_count": 4,
   "id": "0e4bc36b-55d7-4fc6-972f-3d50f3234ebb",
   "metadata": {},
   "outputs": [],
   "source": [
    "load_res <- function(fold, tissue){\n",
    "    \n",
    "    df <- read.delim(sprintf('%s/resPrior_regEval_allchr.txt', fold), h = T, stringsAsFactors = F, sep = '\\t')\n",
    "    df$tissue <- tissue\n",
    "    df$n_regSNPs <- NA\n",
    "    \n",
    "    # reg-SNPs per gene, regardless category\n",
    "    coef <- get(load(sprintf('%s/resPrior_regCoeffSnps_allchr.RData', fold)))\n",
    "    for(id_chr in 1:length(coef)){\n",
    "        n_snps <- colSums(coef[[id_chr]]!=0)\n",
    "        df$n_regSNPs[df$chrom == paste0('chr', id_chr)] <- n_snps\n",
    "    }\n",
    "    df$n_regSNPs[is.na(df$dev)] <- NA\n",
    "    \n",
    "    return(df)\n",
    "}\n",
    "\n",
    "create_cor2 <- function(tissues_name, res, id_z){\n",
    "  \n",
    "  cor_res <- diag(rep(1, length(tissues_name)), ncol = length(tissues_name))\n",
    "  corpval_res <- diag(rep(1, length(tissues_name)),ncol = length(tissues_name))\n",
    "  percint_res <- diag(rep(1, length(tissues_name)),ncol = length(tissues_name))\n",
    "  \n",
    "  for(i in 1:(length(tissues_name)-1)){\n",
    "    ti <- res[res$tissue  %in%  tissues_name[i],]\n",
    "    trest <- lapply((i+1):length(tissues_name), function(x) res[res$tissue  %in%  tissues_name[x],])\n",
    "    gene_int <- lapply(trest, function(x) intersect(ti[,8], x[,8]))\n",
    "    gene_union <- lapply(trest, function(x) union(ti[,8], x[,8]))\n",
    "    \n",
    "    # match\n",
    "    ti_match <- lapply(gene_int, function(x) ti[match(x, ti[,8]), ])\n",
    "    trest_match <- mapply(function(x,y) x[match(y, x[,8]), ], x = trest, y = gene_int, SIMPLIFY = F)\n",
    "    \n",
    "    percint_res[i, (i+1):length(tissues_name)] <- mapply(function(x,y) length(x)/length(y), x = gene_int, y = gene_union)\n",
    "    \n",
    "    tmp <- mapply(function(x,y) cor.test(x[,id_z],y[,id_z], method = 'pearson'), x = ti_match, y = trest_match, SIMPLIFY = F)\n",
    "    \n",
    "    cor_res[i, (i+1):length(tissues_name)] <- sapply(tmp, function(x) x$estimate)\n",
    "    corpval_res[i, (i+1):length(tissues_name)] <- sapply(tmp, function(x) x$p.value)\n",
    "    \n",
    "  }\n",
    "  cor_res <- cor_res + t(cor_res) - diag(diag(cor_res))\n",
    "  corpval_res <- corpval_res + t(corpval_res) - diag(diag(corpval_res))\n",
    "  percint_res <- percint_res + t(percint_res) - diag(diag(percint_res))\n",
    "  \n",
    "  rownames(cor_res) <- colnames(cor_res) <- rownames(corpval_res) <- colnames(corpval_res) <- tissues_name\n",
    "  rownames(percint_res) <- colnames(percint_res) <- tissues_name\n",
    "  \n",
    "  return(list(cor = cor_res, pval = corpval_res, perc = percint_res))\n",
    "  \n",
    "}\n",
    "                                                         \n",
    "pl_corr2 <- function (res_cor, tissues_name){\n",
    "    \n",
    "    diag(res_cor$cor) <- NA\n",
    "    col <- colorRampPalette(brewer.pal(9, \"Oranges\"))(100)\n",
    "  \n",
    "    corrplot(res_cor$cor, type = \"upper\", \n",
    "        tl.col = \"black\", col = c(col), mar = c(1, 1, 3, 6), cl.pos = \"n\",\n",
    "        method = \"color\", tl.srt = 45, cl.align.text = \"c\", addCoef.col = \"black\", number.cex = 0.8, tl.pos = \"lt\",\n",
    "        na.label = \"square\", na.label.col = \"darkgrey\", is.corr = F, col.lim = c(0.995, 1.00), number.digits = 6)\n",
    "   \n",
    "    diag(res_cor$perc) <- NA\n",
    "    col <- colorRampPalette(brewer.pal(9, \"Greens\"))(100)\n",
    "    \n",
    "    corrplot(res_cor$perc, type = \"lower\", tl.col = \"black\", \n",
    "        col = c(col), method = \"color\", tl.srt = 45,tl.pos = \"n\", cl.pos = \"n\",\n",
    "        cl.align.text = \"c\", addCoef.col = \"black\", na.label = \"square\",\n",
    "        na.label.col = \"darkgrey\", is.corr = F, number.cex = 0.8, col.lim = c(0.9, 1.0), number.digits = 6, add = TRUE)\n",
    "}\n",
    "                                                         \n",
    "plot_R2_dist2 <- function(tissue_tmp, df_gene, df_summary, col_plot, save_file = NULL) {\n",
    "    \n",
    "  id <- names(which(table(df_gene$ensembl_gene_id[df_gene$reliable]) == length(unique(df_gene$tissue))))\n",
    "  df_plot <- df_gene\n",
    "  df_plot$tissue_name <- df_plot$tissue\n",
    "  df_plot$tissue_name <- factor(df_plot$tissue_name, \n",
    "                                levels = df_summary$complete_name[df_summary$tissue == tissue_tmp])\n",
    "\n",
    "  df_med <- df_plot %>% \n",
    "            filter(reliable) %>%\n",
    "            group_by(tissue_name) %>% \n",
    "            summarise(med = median(dev_geno), med_test = median(test_dev_geno))\n",
    "\n",
    "  pl_box_R2 <- ggplot(subset(df_plot, reliable), \n",
    "                      aes(x = tissue_name, y=dev_geno)) + \n",
    "    geom_boxplot(width = 0.5, outlier.size = 0.3, alpha = 0.7, size = 0.3, \n",
    "                 fill = col_plot$color[col_plot$tissue == tissue_tmp])+ \n",
    "    ylab(expression(R^2))+ ggtitle('')+\n",
    "    xlab('')+ theme_bw()+ \n",
    "    ggtitle('Final model\\n ')+\n",
    "    #scale_y_continuous(trans=weird)+\n",
    "    geom_hline(yintercept = 0, color = 'darkgrey', linetype='dashed')+\n",
    "    theme(plot.title = element_text(hjust = 0.5), plot.subtitle = element_text(hjust = 0.5), \n",
    "          text = element_text(size = 10),\n",
    "          axis.text.y=element_text(size = 9, angle = 0, hjust = 1),\n",
    "          axis.text.x=element_text(size = 10), legend.position = 'none')+\n",
    "          coord_flip()\n",
    "\n",
    "  pl_box_R2_test <- ggplot(subset(df_plot, reliable), \n",
    "                      aes(x = tissue_name, y=test_dev_geno)) + \n",
    "    geom_boxplot(width = 0.5, outlier.size = 0.3, alpha = 0.7, size = 0.3, \n",
    "                 fill = col_plot$color[col_plot$tissue == tissue_tmp])+ \n",
    "    ylab(expression(R[CV]^2))+ \n",
    "    xlab('')+ theme_bw()+ \n",
    "    #scale_y_continuous(trans=weird)+\n",
    "    ggtitle('All genes')+\n",
    "    geom_hline(yintercept = 0, color = 'darkgrey', linetype='dashed')+\n",
    "    theme(plot.title = element_text(hjust = 0.5), plot.subtitle = element_text(hjust = 0.5), \n",
    "          text = element_text(size = 12),\n",
    "          #axis.text.y=element_blank(),\n",
    "          axis.text.x=element_text(size = 10), legend.position = 'none')+\n",
    "          coord_flip()\n",
    "\n",
    "  return(pl_box_R2_test)\n",
    "}"
   ]
  },
  {
   "cell_type": "code",
   "execution_count": 5,
   "id": "4652cb23-2748-4aff-b259-6f13fa56bed7",
   "metadata": {},
   "outputs": [],
   "source": [
    "pvals <- c(\"p01\", \"p005\", \"p001\", \"p0001\", \"p00001\")\n",
    "pvalstr <- c(\"0.1\", \"0.05\", \"0.01\", \"0.001\", \"0.0001\")\n",
    "\n",
    "common_name <- \"/scratch/tmp/dolgalev/castom-igex-revision/PriLer_PROJECT_GTEx/OUTPUT_SCRIPTS_v2\"\n",
    "\n",
    "folder_train_ac <- vector(mode = \"character\")\n",
    "folder_train_bc <- vector(mode = \"character\")\n",
    "\n",
    "folder_sample_ac <- vector(mode = \"character\")\n",
    "folder_sample_bc <- vector(mode = \"character\")\n",
    "\n",
    "name_t_ac <- vector(mode = \"character\")\n",
    "name_t_bc <- vector(mode = \"character\")\n",
    "\n",
    "for (i in 1:length(pvals)) {\n",
    "  folder_train_ac <- c(folder_train_ac, sprintf(\"%s/Artery_Coronary/200kb/CAD_GWAS_bin_%s\", common_name, pvals[i]))\n",
    "  folder_train_bc <- c(folder_train_bc, sprintf(\"%s/Brain_Cortex/200kb/PGC_GWAS_bin_%s\", common_name, pvals[i]))\n",
    "  \n",
    "  folder_sample_ac <- c(folder_sample_ac, sprintf(\"/cloud/wwu1/h_fungenpsy/AGZiller_data/CASTOMiGEx/PriLer_PROJECT_GTEx/INPUT_DATA/Covariates/%s/covariates_EuropeanSamples.txt\", \"Artery_Coronary\"))\n",
    "  folder_sample_bc <- c(folder_sample_bc, sprintf(\"/cloud/wwu1/h_fungenpsy/AGZiller_data/CASTOMiGEx/PriLer_PROJECT_GTEx/INPUT_DATA/Covariates/%s/covariates_EuropeanSamples.txt\", \"Brain_Cortex\"))\n",
    "  \n",
    "  name_t_ac <- c(name_t_ac, sprintf(\"Artery Coronary (p <= %s)\", pvalstr[i]))\n",
    "  name_t_bc <- c(name_t_bc, sprintf(\"Brain Cortex (p <= %s)\", pvalstr[i]))\n",
    "}\n",
    "                                                   \n",
    "tissues_model_ac <- data.frame(tissue = name_t_ac, folder_sample = folder_sample_ac, folder_train = folder_train_ac)\n",
    "tissues_model_bc <- data.frame(tissue = name_t_bc, folder_sample = folder_sample_bc, folder_train = folder_train_bc)"
   ]
  },
  {
   "cell_type": "code",
   "execution_count": 6,
   "id": "c9114358-6e2a-474f-9243-c2c59c2720bc",
   "metadata": {},
   "outputs": [],
   "source": [
    "df <- list()\n",
    "for(i in 1:nrow(tissues_model_ac)){\n",
    "    tmp <- load_res(fold = tissues_model_ac$folder_train[i], tissue = tissues_model_ac$tissue[i])\n",
    "    df[[i]] <- tmp\n",
    "}\n",
    "col_keep <- names(which(table(unlist(sapply(df, colnames))) == length(df)))\n",
    "df <- lapply(df, function(x) x[, colnames(x) %in% col_keep])\n",
    "df <- do.call(rbind, df)\n",
    "df$reliable <- F\n",
    "df$reliable[df$test_dev_geno>0 & df$dev_geno>0.01] <- T\n",
    "df_gene_ac <- df"
   ]
  },
  {
   "cell_type": "code",
   "execution_count": 7,
   "id": "2d3fe206-0e64-450f-b63a-69f2fe7017e6",
   "metadata": {},
   "outputs": [],
   "source": [
    "df <- list()\n",
    "for(i in 1:nrow(tissues_model_bc)){\n",
    "    tmp <- load_res(fold = tissues_model_bc$folder_train[i], tissue = tissues_model_bc$tissue[i])\n",
    "    df[[i]] <- tmp\n",
    "}\n",
    "col_keep <- names(which(table(unlist(sapply(df, colnames))) == length(df)))\n",
    "df <- lapply(df, function(x) x[, colnames(x) %in% col_keep])\n",
    "df <- do.call(rbind, df)\n",
    "df$reliable <- F\n",
    "df$reliable[df$test_dev_geno>0 & df$dev_geno>0.01] <- T\n",
    "df_gene_bc <- df"
   ]
  },
  {
   "cell_type": "code",
   "execution_count": 8,
   "id": "23081be8-dac8-4bc6-8d46-d2a79260f4a3",
   "metadata": {},
   "outputs": [],
   "source": [
    "df_gene_ac = df_gene_ac[df_gene_ac$reliable, ]\n",
    "df_gene_bc = df_gene_bc[df_gene_bc$reliable, ]"
   ]
  },
  {
   "cell_type": "code",
   "execution_count": null,
   "id": "42c12faa-78f7-40c8-8128-c61913889087",
   "metadata": {},
   "outputs": [],
   "source": [
    "df_gene_ac"
   ]
  },
  {
   "cell_type": "code",
   "execution_count": 9,
   "id": "3d9ef541-3576-4d68-b3e7-074fa8b3b400",
   "metadata": {},
   "outputs": [],
   "source": [
    "cor_ac <- create_cor2(tissues_model_ac$tissue, df_gene_ac, id_z = 17)  # Index of `test_dev_geno` column\n",
    "cor_bc <- create_cor2(tissues_model_bc$tissue, df_gene_bc, id_z = 17)"
   ]
  },
  {
   "cell_type": "code",
   "execution_count": 62,
   "id": "cd633da9-9aca-47cc-a262-894c93431b48",
   "metadata": {},
   "outputs": [
    {
     "name": "stderr",
     "output_type": "stream",
     "text": [
      "Warning message in corrplot(res_cor$cor, type = \"upper\", tl.col = \"black\", col = c(col), :\n",
      "“col.lim interval too wide, please set a suitable value”\n"
     ]
    },
    {
     "data": {
      "text/html": [
       "<strong>png:</strong> 2"
      ],
      "text/latex": [
       "\\textbf{png:} 2"
      ],
      "text/markdown": [
       "**png:** 2"
      ],
      "text/plain": [
       "png \n",
       "  2 "
      ]
     },
     "metadata": {},
     "output_type": "display_data"
    }
   ],
   "source": [
    "pdf(sprintf(\"%scorr_test_dev_geno_artery_coronary.pdf\", results_dir), width = 9, height = 6, compress = F)\n",
    "par(xpd = TRUE)\n",
    "pl_corr2(cor_ac, tissues_name = tissues_id_ac)\n",
    "dev.off()"
   ]
  },
  {
   "cell_type": "code",
   "execution_count": 63,
   "id": "46816cbf-e2e2-4385-999c-af0f369b97c6",
   "metadata": {},
   "outputs": [
    {
     "name": "stderr",
     "output_type": "stream",
     "text": [
      "Warning message in corrplot(res_cor$cor, type = \"upper\", tl.col = \"black\", col = c(col), :\n",
      "“col.lim interval too wide, please set a suitable value”\n",
      "Warning message in corrplot(res_cor$perc, type = \"lower\", tl.col = \"black\", col = c(col), :\n",
      "“col.lim interval too wide, please set a suitable value”\n"
     ]
    },
    {
     "data": {
      "text/html": [
       "<strong>png:</strong> 2"
      ],
      "text/latex": [
       "\\textbf{png:} 2"
      ],
      "text/markdown": [
       "**png:** 2"
      ],
      "text/plain": [
       "png \n",
       "  2 "
      ]
     },
     "metadata": {},
     "output_type": "display_data"
    }
   ],
   "source": [
    "pdf(sprintf(\"%scorr_test_dev_geno_brain_cortex.pdf\", results_dir), width = 9, height = 6, compress = F)\n",
    "par(xpd = TRUE)\n",
    "pl_corr2(cor_bc, tissues_name = tissues_id_bc)\n",
    "dev.off()"
   ]
  },
  {
   "cell_type": "code",
   "execution_count": 12,
   "id": "2e221812-22af-4412-9df1-3e8142f68841",
   "metadata": {},
   "outputs": [
    {
     "name": "stderr",
     "output_type": "stream",
     "text": [
      "Warning message in eval(expr, envir, enclos):\n",
      "“NAs introduced by coercion”\n"
     ]
    }
   ],
   "source": [
    "df_summary_ac <- df_gene_ac %>% \n",
    "    group_by(tissue) %>% \n",
    "    summarise(n_genes = sum(reliable)) %>% \n",
    "    mutate(n_regSNPs = NA, frac_prior = NA, n_samples = NA)\n",
    "df_summary_ac <- df_summary_ac[match(tissues_model_ac$tissue, df_summary_ac$tissue),]\n",
    "\n",
    "for(i in 1:nrow(tissues_model_ac)){\n",
    "    tmp <- read.table(tissues_model_ac$folder_sample[i], h=T, stringsAsFactors = F)\n",
    "    df_summary_ac$n_samples[i] <- nrow(tmp)\n",
    "    \n",
    "}\n",
    "\n",
    "df_summary_ac <- df_summary_ac %>% rename(complete_name = tissue)\n",
    "df_summary_ac$tissue <- \"Artery_Coronary\"\n",
    "df_summary_ac$percentage <- as.numeric(sapply(df_summary_ac$complete_name, function(x) strsplit(x, split = \"[(%)]\")[[1]][2]))   \n",
    "df_summary_ac <- df_summary_ac %>% arrange(tissue, percentage)\n",
    "rownames(df_summary_ac) <- NULL \n",
    "df_summary_ac$percentage <- paste0(df_summary_ac$percentage, \"%\")                                                         "
   ]
  },
  {
   "cell_type": "code",
   "execution_count": 13,
   "id": "d5f37c8d-b1d5-4216-8e80-fb180a6aa426",
   "metadata": {},
   "outputs": [
    {
     "name": "stderr",
     "output_type": "stream",
     "text": [
      "Warning message in eval(expr, envir, enclos):\n",
      "“NAs introduced by coercion”\n"
     ]
    }
   ],
   "source": [
    "df_summary_bc <- df_gene_bc %>% \n",
    "    group_by(tissue) %>% \n",
    "    summarise(n_genes = sum(reliable)) %>% \n",
    "    mutate(n_regSNPs = NA, frac_prior = NA, n_samples = NA)\n",
    "df_summary_bc <- df_summary_bc[match(tissues_model_bc$tissue, df_summary_bc$tissue),]\n",
    "\n",
    "for(i in 1:nrow(tissues_model_bc)){\n",
    "    tmp <- read.table(tissues_model_bc$folder_sample[i], h=T, stringsAsFactors = F)\n",
    "    df_summary_bc$n_samples[i] <- nrow(tmp)\n",
    "    \n",
    "}\n",
    "\n",
    "df_summary_bc <- df_summary_bc %>% rename(complete_name = tissue)\n",
    "df_summary_bc$tissue <- \"Brain_Cortex\"\n",
    "df_summary_bc$percentage <- as.numeric(sapply(df_summary_bc$complete_name, function(x) strsplit(x, split = \"[(%)]\")[[1]][2]))   \n",
    "df_summary_bc <- df_summary_bc %>% arrange(tissue, percentage)\n",
    "rownames(df_summary_bc) <- NULL \n",
    "df_summary_bc$percentage <- paste0(df_summary_bc$percentage, \"%\")         "
   ]
  },
  {
   "cell_type": "code",
   "execution_count": 14,
   "id": "fac34dc0-d391-48ce-ac3f-08d4abd05b5a",
   "metadata": {},
   "outputs": [],
   "source": [
    "col_plot_ac <- color_tissues %>% filter(tissues %in% unique(df_summary_ac$tissue))\n",
    "col_plot_bc <- color_tissues %>% filter(tissues %in% unique(df_summary_bc$tissue))"
   ]
  },
  {
   "cell_type": "code",
   "execution_count": 15,
   "id": "3247ee1b-d916-4daf-a498-8e354f937f7e",
   "metadata": {},
   "outputs": [],
   "source": [
    "df_gene_ac_list <- list(Artery_Coronary = df_gene_ac[grepl(\"Artery Coronary\", df_gene_ac$tissue),])\n",
    "df_gene_bc_list <- list(Brain_Cortex = df_gene_bc[grepl(\"Brain Cortex\", df_gene_bc$tissue),])"
   ]
  },
  {
   "cell_type": "code",
   "execution_count": 16,
   "id": "001612ef-f1b6-4b1f-996b-4d703e28d6f8",
   "metadata": {},
   "outputs": [
    {
     "data": {
      "text/html": [
       "<strong>png:</strong> 2"
      ],
      "text/latex": [
       "\\textbf{png:} 2"
      ],
      "text/markdown": [
       "**png:** 2"
      ],
      "text/plain": [
       "png \n",
       "  2 "
      ]
     },
     "metadata": {},
     "output_type": "display_data"
    }
   ],
   "source": [
    "pdf(sprintf(\"%scorr_R2C_artery_coronary.pdf\", results_dir), width = 7, height = 2.4, compress = F)\n",
    "plot_R2_dist2(tissue_tmp = names(df_gene_ac_list)[1], df_gene = df_gene_ac_list[[1]], df_summary = df_summary_ac, col_plot = col_plot_ac)\n",
    "dev.off()"
   ]
  },
  {
   "cell_type": "code",
   "execution_count": 17,
   "id": "36b8a002-2df9-40c3-bf10-0ce789530134",
   "metadata": {},
   "outputs": [
    {
     "data": {
      "text/html": [
       "<strong>png:</strong> 2"
      ],
      "text/latex": [
       "\\textbf{png:} 2"
      ],
      "text/markdown": [
       "**png:** 2"
      ],
      "text/plain": [
       "png \n",
       "  2 "
      ]
     },
     "metadata": {},
     "output_type": "display_data"
    }
   ],
   "source": [
    "pdf(sprintf(\"%scorr_R2C_brain_cortex.pdf\", results_dir), width = 7, height = 2.4, compress = F)\n",
    "(plot_R2_dist2(tissue_tmp = names(df_gene_bc_list)[1], df_gene = df_gene_bc_list[[1]], df_summary = df_summary_bc, col_plot = col_plot_bc))\n",
    "dev.off()"
   ]
  },
  {
   "cell_type": "code",
   "execution_count": 18,
   "id": "a31dff3f-00ce-41b0-91d4-f9daab7d0403",
   "metadata": {},
   "outputs": [],
   "source": [
    "p <- read.table(sprintf(\"%s/priorMatrix_chr1.txt.gz\", common_name), header = TRUE)\n",
    "\n",
    "ps <- colSums(p[, (ncol(p) - 9):ncol(p)])\n",
    "\n",
    "\n",
    "for (c in 2:22) {\n",
    "  p <- read.table(sprintf(\"%s/priorMatrix_chr%s.txt.gz\", common_name, c), header = TRUE)\n",
    "  \n",
    "  ps <- ps + colSums(p[, (ncol(p) - 9):ncol(p)])\n",
    "}"
   ]
  },
  {
   "cell_type": "code",
   "execution_count": 19,
   "id": "bb15e5cc-c4d2-412c-91a3-eaedb4b0f5f9",
   "metadata": {},
   "outputs": [],
   "source": [
    "p <- rep(c(\"0.0001\", \"0.001\", \"0.01\", \"0.05\", \"0.1\"), 2)\n",
    "h <- c(rep(\"CAD\", 5), rep(\"SCZ\", 5)) "
   ]
  },
  {
   "cell_type": "code",
   "execution_count": 20,
   "id": "e792dbba-3792-4a9d-8e46-acd9e0da6f47",
   "metadata": {},
   "outputs": [],
   "source": [
    "phs <- data.frame(p_val = p, cohort = h, snps = ps)"
   ]
  },
  {
   "cell_type": "code",
   "execution_count": 21,
   "id": "b643da63-4284-4cf6-bbd4-97841cb73ab0",
   "metadata": {},
   "outputs": [
    {
     "data": {
      "image/png": "[encoded data removed]",
      "text/plain": [
       "plot without title"
      ]
     },
     "metadata": {
      "image/png": {
       "height": 420,
       "width": 420
      }
     },
     "output_type": "display_data"
    }
   ],
   "source": [
    "(\n",
    "  g <- ggplot(phs, aes(x = p_val, y = snps, fill = cohort)) + \n",
    "    geom_col(position = \"dodge\") + \n",
    "    labs(x = \"p-value threshold\", y = \"n. SNPs < p-value\", fill = \"GWAS\") + \n",
    "    theme_bw()\n",
    ")"
   ]
  },
  {
   "cell_type": "code",
   "execution_count": 22,
   "id": "b8306c8c-9252-4238-829b-67869f1f058d",
   "metadata": {},
   "outputs": [],
   "source": [
    "ggsave(sprintf(\"%spval_thresh_n_snps.pdf\", results_dir), width = 4, height = 5, dpi = 300, compress = F)"
   ]
  },
  {
   "cell_type": "code",
   "execution_count": null,
   "id": "2aec7be8-485f-493c-9889-45b07a3425d8",
   "metadata": {},
   "outputs": [],
   "source": []
  }
 ],
 "metadata": {
  "kernelspec": {
   "display_name": "R",
   "language": "R",
   "name": "ir"
  },
  "language_info": {
   "codemirror_mode": "r",
   "file_extension": ".r",
   "mimetype": "text/x-r-source",
   "name": "R",
   "pygments_lexer": "r",
   "version": "4.2.1"
  }
 },
 "nbformat": 4,
 "nbformat_minor": 5
}
