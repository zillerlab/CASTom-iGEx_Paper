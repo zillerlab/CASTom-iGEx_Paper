{
 "cells": [
  {
   "cell_type": "code",
   "execution_count": 1,
   "id": "07daf802-289b-44e7-9e13-eff367762e14",
   "metadata": {},
   "outputs": [],
   "source": [
    "import matplotlib.pyplot as plt\n",
    "import polars as pl\n",
    "import seaborn as sns\n",
    "import seaborn.objects as so"
   ]
  },
  {
   "cell_type": "code",
   "execution_count": 2,
   "id": "b4172247-5710-4e3d-baed-5d7ec048ce6e",
   "metadata": {},
   "outputs": [],
   "source": [
    "%matplotlib inline"
   ]
  },
  {
   "cell_type": "code",
   "execution_count": 3,
   "id": "f841a261-354b-4ed2-af5f-6a719a15ea3b",
   "metadata": {},
   "outputs": [],
   "source": [
    "sns.set_theme(style='darkgrid')"
   ]
  },
  {
   "cell_type": "code",
   "execution_count": 4,
   "id": "e0b83de4-86cb-4f7d-8303-f87e2c3d0c8e",
   "metadata": {},
   "outputs": [],
   "source": [
    "paths = pl.read_csv(f'/scratch/tmp/dolgalev/castom-igex-revision/results/palas_liver_go_reactome_jaccard.tsv', separator='\\t')"
   ]
  },
  {
   "cell_type": "code",
   "execution_count": 5,
   "id": "b95c1894-0755-4bf9-a8ed-7b6e1a53fc9d",
   "metadata": {},
   "outputs": [],
   "source": [
    "go_scores = pl.read_csv(f'/scratch/tmp/dolgalev/castom-igex-revision/results/palas_liver_go_scores.csv')"
   ]
  },
  {
   "cell_type": "code",
   "execution_count": 6,
   "id": "7e78dd71-ae87-4fbc-b658-add4a5745a7e",
   "metadata": {},
   "outputs": [],
   "source": [
    "react_scores = pl.read_csv(f'/scratch/tmp/dolgalev/castom-igex-revision/results/palas_liver_reactome_scores.csv')"
   ]
  },
  {
   "cell_type": "code",
   "execution_count": 7,
   "id": "54e23d42-8e8a-46c8-be21-560b2a18608b",
   "metadata": {},
   "outputs": [],
   "source": [
    "scores = pl.concat([go_scores, react_scores]).transpose(column_names='path')"
   ]
  },
  {
   "cell_type": "code",
   "execution_count": 8,
   "id": "91e3cb77-561e-497a-9a83-ab3bebf88fdc",
   "metadata": {},
   "outputs": [],
   "source": [
    "paths = paths.with_columns(cor=(paths.map_rows(lambda r: scores.select(pl.corr(r[0], r[1])).item()).get_column('map')))"
   ]
  },
  {
   "cell_type": "code",
   "execution_count": 10,
   "id": "7ca0dc76-1777-4021-a2c9-8baa6c99402a",
   "metadata": {},
   "outputs": [],
   "source": [
    "paths = paths.with_columns(cor=pl.col('cor')**2)"
   ]
  },
  {
   "cell_type": "code",
   "execution_count": 12,
   "id": "4bd0eea9-e4a2-47b0-8ecb-ac724df3d360",
   "metadata": {},
   "outputs": [],
   "source": [
    "paths.write_csv('/scratch/tmp/dolgalev/castom-igex-revision/results/palas_liver_go_reactome_jaccard_cor.csv')"
   ]
  },
  {
   "cell_type": "code",
   "execution_count": null,
   "id": "f4bef768-eb19-4e0d-8648-51b5b4e03f27",
   "metadata": {},
   "outputs": [],
   "source": []
  }
 ],
 "metadata": {
  "kernelspec": {
   "display_name": "Python 3 (ipykernel)",
   "language": "python",
   "name": "python3"
  },
  "language_info": {
   "codemirror_mode": {
    "name": "ipython",
    "version": 3
   },
   "file_extension": ".py",
   "mimetype": "text/x-python",
   "name": "python",
   "nbconvert_exporter": "python",
   "pygments_lexer": "ipython3",
   "version": "3.10.4"
  }
 },
 "nbformat": 4,
 "nbformat_minor": 5
}
