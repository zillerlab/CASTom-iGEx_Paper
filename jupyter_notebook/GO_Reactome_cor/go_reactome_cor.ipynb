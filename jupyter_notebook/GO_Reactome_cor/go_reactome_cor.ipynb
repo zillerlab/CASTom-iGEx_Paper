{
 "cells": [
  {
   "cell_type": "code",
   "execution_count": 1,
   "id": "f223a2d0-38d5-4cb7-ae8d-65383b668457",
   "metadata": {},
   "outputs": [],
   "source": [
    "suppressPackageStartupMessages({\n",
    "  library(dplyr)\n",
    "  library(ggdensity)\n",
    "  library(ggplot2)\n",
    "  library(readr)\n",
    "  library(stringr)\n",
    "  library(latex2exp)\n",
    "  library(data.table)\n",
    "})"
   ]
  },
  {
   "cell_type": "code",
   "execution_count": 2,
   "id": "7d4a17c1-4738-43d3-90e3-81abd1243ef3",
   "metadata": {},
   "outputs": [],
   "source": [
    "options(readr.show_col_types = FALSE)"
   ]
  },
  {
   "cell_type": "code",
   "execution_count": 3,
   "id": "3a006f5d-406b-49b4-b4cf-269a78362f58",
   "metadata": {},
   "outputs": [],
   "source": [
    "setwd(\"/cloud/wwu1/h_fungenpsy/AGZiller_data/CASTOMiGEx/CAD_UKBB/eQTL_PROJECT/OUTPUT_GTEx/predict_CAD\")"
   ]
  },
  {
   "cell_type": "code",
   "execution_count": 9,
   "id": "8c47951b-9d57-4eaa-9603-62e69a190c77",
   "metadata": {},
   "outputs": [],
   "source": [
    "paths_go <- readr::read_delim(\"AllTissues/200kb/CAD_GWAS_bin5e-2/UKBB/path_GO_pval_CAD_HARD_covCorr_filt.txt\") %>%\n",
    "  filter(tissue == \"Liver\") %>%\n",
    "  select(path_id, ngenes_path, genes_path) %>%\n",
    "  mutate(\n",
    "    genes_path = strsplit(genes_path, \",\"),\n",
    "    ngenes_real = lengths(genes_path)\n",
    "  )"
   ]
  },
  {
   "cell_type": "code",
   "execution_count": 10,
   "id": "7f792f59-6516-4989-88d9-e3563540d8b8",
   "metadata": {},
   "outputs": [],
   "source": [
    "paths_go <- filter(paths_go, ngenes_real > 1)"
   ]
  },
  {
   "cell_type": "code",
   "execution_count": 13,
   "id": "a717672f-4e74-4f82-b205-606627d2a40d",
   "metadata": {},
   "outputs": [
    {
     "data": {
      "text/html": [
       "1514"
      ],
      "text/latex": [
       "1514"
      ],
      "text/markdown": [
       "1514"
      ],
      "text/plain": [
       "[1] 1514"
      ]
     },
     "metadata": {},
     "output_type": "display_data"
    }
   ],
   "source": [
    "nrow(paths_go)"
   ]
  },
  {
   "cell_type": "code",
   "execution_count": 11,
   "id": "ea1aa77b-686e-4319-97d7-d31822c27469",
   "metadata": {},
   "outputs": [],
   "source": [
    "paths_react <- readr::read_delim(\"AllTissues/200kb/CAD_GWAS_bin5e-2/UKBB/path_Reactome_pval_CAD_HARD_covCorr.txt\") %>%\n",
    "  filter(tissue == \"Liver\") %>%\n",
    "  select(path, ngenes_path, genes_path) %>%\n",
    "  mutate(\n",
    "    genes_path = strsplit(genes_path, \",\"),\n",
    "    ngenes_real = lengths(genes_path)\n",
    "  )"
   ]
  },
  {
   "cell_type": "code",
   "execution_count": 12,
   "id": "8952ddbe-77c5-465c-8890-300060b510e2",
   "metadata": {},
   "outputs": [],
   "source": [
    "paths_react <- filter(paths_react, ngenes_real > 1)"
   ]
  },
  {
   "cell_type": "code",
   "execution_count": 14,
   "id": "6ad8c39c-50d3-4112-abeb-5588d17b03c6",
   "metadata": {},
   "outputs": [
    {
     "data": {
      "text/html": [
       "606"
      ],
      "text/latex": [
       "606"
      ],
      "text/markdown": [
       "606"
      ],
      "text/plain": [
       "[1] 606"
      ]
     },
     "metadata": {},
     "output_type": "display_data"
    }
   ],
   "source": [
    "nrow(paths_react)"
   ]
  },
  {
   "cell_type": "code",
   "execution_count": 25,
   "id": "4964815c-abbb-41b0-a4c4-2737e7132649",
   "metadata": {},
   "outputs": [],
   "source": [
    "path_names <- expand.grid(paths_go$path_id, paths_react$path)\n",
    "path_genes <- expand.grid(paths_go$genes_path, paths_react$genes_path)"
   ]
  },
  {
   "cell_type": "code",
   "execution_count": 26,
   "id": "06269684-da18-498d-ad0d-5a4eed4c7ea3",
   "metadata": {},
   "outputs": [],
   "source": [
    "colnames(path_names) <- c(\"go\", \"reactome\")"
   ]
  },
  {
   "cell_type": "code",
   "execution_count": 27,
   "id": "f773dfc5-f0dd-4286-8c2f-daf8754d6f90",
   "metadata": {},
   "outputs": [],
   "source": [
    "jaccard_lists <- function(l1, l2) {\n",
    "  j <- length(intersect(l1[[1]], l2[[1]])) / length(union(l1[[1]], l2[[1]]))\n",
    "  \n",
    "  return(j)\n",
    "}"
   ]
  },
  {
   "cell_type": "code",
   "execution_count": 28,
   "id": "5ff5cecf-0cf7-4529-88ed-94c833468e66",
   "metadata": {},
   "outputs": [],
   "source": [
    "intersect_len <- function(l1, l2) {\n",
    "  j <- length(intersect(l1[[1]], l2[[1]]))\n",
    "  \n",
    "  return(j)\n",
    "}"
   ]
  },
  {
   "cell_type": "code",
   "execution_count": 29,
   "id": "65516e8a-66e8-4b5c-8a4c-bdd20e3eebee",
   "metadata": {},
   "outputs": [
    {
     "data": {
      "text/html": [
       "917484"
      ],
      "text/latex": [
       "917484"
      ],
      "text/markdown": [
       "917484"
      ],
      "text/plain": [
       "[1] 917484"
      ]
     },
     "metadata": {},
     "output_type": "display_data"
    }
   ],
   "source": [
    "nrow(path_names)"
   ]
  },
  {
   "cell_type": "code",
   "execution_count": 31,
   "id": "f5ce7572-3dc8-43e9-aa24-2466be260b74",
   "metadata": {},
   "outputs": [],
   "source": [
    "path_names <- path_names %>%\n",
    "  mutate(\n",
    "    jaccard = apply(path_genes, 1, function(y) jaccard_lists(y[1], y[2])),\n",
    "    il = apply(path_genes, 1, function(y) intersect_len(y[1], y[2]))                \n",
    "  ) %>%\n",
    "  filter(il >= 1) %>%\n",
    "  na.omit()"
   ]
  },
  {
   "cell_type": "code",
   "execution_count": 33,
   "id": "92b0bb22-5cee-4ba9-8d04-4525180df90c",
   "metadata": {},
   "outputs": [
    {
     "data": {
      "text/html": [
       "<table class=\"dataframe\">\n",
       "<caption>A data.frame: 43831 × 4</caption>\n",
       "<thead>\n",
       "\t<tr><th></th><th scope=col>go</th><th scope=col>reactome</th><th scope=col>jaccard</th><th scope=col>il</th></tr>\n",
       "\t<tr><th></th><th scope=col>&lt;fct&gt;</th><th scope=col>&lt;fct&gt;</th><th scope=col>&lt;dbl&gt;</th><th scope=col>&lt;int&gt;</th></tr>\n",
       "</thead>\n",
       "<tbody>\n",
       "\t<tr><th scope=row>1</th><td>GO:0000082</td><td>ABC transporter disorders</td><td>0.200000000</td><td>2</td></tr>\n",
       "\t<tr><th scope=row>2</th><td>GO:0000209</td><td>ABC transporter disorders</td><td>0.142857143</td><td>2</td></tr>\n",
       "\t<tr><th scope=row>3</th><td>GO:0000278</td><td>ABC transporter disorders</td><td>0.068965517</td><td>2</td></tr>\n",
       "\t<tr><th scope=row>4</th><td>GO:0000502</td><td>ABC transporter disorders</td><td>0.166666667</td><td>1</td></tr>\n",
       "\t<tr><th scope=row>5</th><td>GO:0002474</td><td>ABC transporter disorders</td><td>0.153846154</td><td>2</td></tr>\n",
       "\t<tr><th scope=row>6</th><td>GO:0002479</td><td>ABC transporter disorders</td><td>0.250000000</td><td>2</td></tr>\n",
       "\t<tr><th scope=row>7</th><td>GO:0002931</td><td>ABC transporter disorders</td><td>0.125000000</td><td>1</td></tr>\n",
       "\t<tr><th scope=row>8</th><td>GO:0004842</td><td>ABC transporter disorders</td><td>0.035714286</td><td>1</td></tr>\n",
       "\t<tr><th scope=row>9</th><td>GO:0004866</td><td>ABC transporter disorders</td><td>0.090909091</td><td>1</td></tr>\n",
       "\t<tr><th scope=row>10</th><td>GO:0005242</td><td>ABC transporter disorders</td><td>0.166666667</td><td>1</td></tr>\n",
       "\t<tr><th scope=row>11</th><td>GO:0005249</td><td>ABC transporter disorders</td><td>0.111111111</td><td>1</td></tr>\n",
       "\t<tr><th scope=row>12</th><td>GO:0005488</td><td>ABC transporter disorders</td><td>0.022222222</td><td>1</td></tr>\n",
       "\t<tr><th scope=row>13</th><td>GO:0005515</td><td>ABC transporter disorders</td><td>0.008333333</td><td>5</td></tr>\n",
       "\t<tr><th scope=row>14</th><td>GO:0005524</td><td>ABC transporter disorders</td><td>0.008474576</td><td>1</td></tr>\n",
       "\t<tr><th scope=row>15</th><td>GO:0005635</td><td>ABC transporter disorders</td><td>0.062500000</td><td>1</td></tr>\n",
       "\t<tr><th scope=row>16</th><td>GO:0005654</td><td>ABC transporter disorders</td><td>0.027397260</td><td>2</td></tr>\n",
       "\t<tr><th scope=row>17</th><td>GO:0005737</td><td>ABC transporter disorders</td><td>0.002881844</td><td>1</td></tr>\n",
       "\t<tr><th scope=row>18</th><td>GO:0005739</td><td>ABC transporter disorders</td><td>0.006896552</td><td>1</td></tr>\n",
       "\t<tr><th scope=row>19</th><td>GO:0005768</td><td>ABC transporter disorders</td><td>0.058823529</td><td>1</td></tr>\n",
       "\t<tr><th scope=row>20</th><td>GO:0005783</td><td>ABC transporter disorders</td><td>0.018181818</td><td>1</td></tr>\n",
       "\t<tr><th scope=row>21</th><td>GO:0005788</td><td>ABC transporter disorders</td><td>0.037037037</td><td>1</td></tr>\n",
       "\t<tr><th scope=row>22</th><td>GO:0005789</td><td>ABC transporter disorders</td><td>0.015384615</td><td>1</td></tr>\n",
       "\t<tr><th scope=row>23</th><td>GO:0005829</td><td>ABC transporter disorders</td><td>0.017341040</td><td>3</td></tr>\n",
       "\t<tr><th scope=row>24</th><td>GO:0005886</td><td>ABC transporter disorders</td><td>0.004672897</td><td>1</td></tr>\n",
       "\t<tr><th scope=row>25</th><td>GO:0005887</td><td>ABC transporter disorders</td><td>0.013888889</td><td>1</td></tr>\n",
       "\t<tr><th scope=row>26</th><td>GO:0006006</td><td>ABC transporter disorders</td><td>0.111111111</td><td>1</td></tr>\n",
       "\t<tr><th scope=row>27</th><td>GO:0006112</td><td>ABC transporter disorders</td><td>0.090909091</td><td>1</td></tr>\n",
       "\t<tr><th scope=row>28</th><td>GO:0006511</td><td>ABC transporter disorders</td><td>0.058823529</td><td>1</td></tr>\n",
       "\t<tr><th scope=row>29</th><td>GO:0006521</td><td>ABC transporter disorders</td><td>0.400000000</td><td>2</td></tr>\n",
       "\t<tr><th scope=row>30</th><td>GO:0006813</td><td>ABC transporter disorders</td><td>0.090909091</td><td>1</td></tr>\n",
       "\t<tr><th scope=row>⋮</th><td>⋮</td><td>⋮</td><td>⋮</td><td>⋮</td></tr>\n",
       "\t<tr><th scope=row>43802</th><td>GO:0005515</td><td>tRNA processing in the nucleus</td><td>0.008333333</td><td>5</td></tr>\n",
       "\t<tr><th scope=row>43803</th><td>GO:0005634</td><td>tRNA processing in the nucleus</td><td>0.003095975</td><td>1</td></tr>\n",
       "\t<tr><th scope=row>43804</th><td>GO:0005635</td><td>tRNA processing in the nucleus</td><td>0.133333333</td><td>2</td></tr>\n",
       "\t<tr><th scope=row>43805</th><td>GO:0005643</td><td>tRNA processing in the nucleus</td><td>0.333333333</td><td>3</td></tr>\n",
       "\t<tr><th scope=row>43806</th><td>GO:0005654</td><td>tRNA processing in the nucleus</td><td>0.041666667</td><td>3</td></tr>\n",
       "\t<tr><th scope=row>43807</th><td>GO:0005737</td><td>tRNA processing in the nucleus</td><td>0.002881844</td><td>1</td></tr>\n",
       "\t<tr><th scope=row>43808</th><td>GO:0005789</td><td>tRNA processing in the nucleus</td><td>0.015384615</td><td>1</td></tr>\n",
       "\t<tr><th scope=row>43809</th><td>GO:0005819</td><td>tRNA processing in the nucleus</td><td>0.066666667</td><td>1</td></tr>\n",
       "\t<tr><th scope=row>43810</th><td>GO:0005829</td><td>tRNA processing in the nucleus</td><td>0.005714286</td><td>1</td></tr>\n",
       "\t<tr><th scope=row>43811</th><td>GO:0005847</td><td>tRNA processing in the nucleus</td><td>0.166666667</td><td>1</td></tr>\n",
       "\t<tr><th scope=row>43812</th><td>GO:0005975</td><td>tRNA processing in the nucleus</td><td>0.107142857</td><td>3</td></tr>\n",
       "\t<tr><th scope=row>43813</th><td>GO:0006366</td><td>tRNA processing in the nucleus</td><td>0.033333333</td><td>1</td></tr>\n",
       "\t<tr><th scope=row>43814</th><td>GO:0006378</td><td>tRNA processing in the nucleus</td><td>0.142857143</td><td>1</td></tr>\n",
       "\t<tr><th scope=row>43815</th><td>GO:0006406</td><td>tRNA processing in the nucleus</td><td>0.111111111</td><td>1</td></tr>\n",
       "\t<tr><th scope=row>43816</th><td>GO:0006605</td><td>tRNA processing in the nucleus</td><td>0.111111111</td><td>1</td></tr>\n",
       "\t<tr><th scope=row>43817</th><td>GO:0006913</td><td>tRNA processing in the nucleus</td><td>0.076923077</td><td>1</td></tr>\n",
       "\t<tr><th scope=row>43818</th><td>GO:0006935</td><td>tRNA processing in the nucleus</td><td>0.125000000</td><td>1</td></tr>\n",
       "\t<tr><th scope=row>43819</th><td>GO:0008380</td><td>tRNA processing in the nucleus</td><td>0.058823529</td><td>1</td></tr>\n",
       "\t<tr><th scope=row>43820</th><td>GO:0010467</td><td>tRNA processing in the nucleus</td><td>0.027027027</td><td>1</td></tr>\n",
       "\t<tr><th scope=row>43821</th><td>GO:0010827</td><td>tRNA processing in the nucleus</td><td>0.600000000</td><td>3</td></tr>\n",
       "\t<tr><th scope=row>43822</th><td>GO:0015031</td><td>tRNA processing in the nucleus</td><td>0.055555556</td><td>3</td></tr>\n",
       "\t<tr><th scope=row>43823</th><td>GO:0016032</td><td>tRNA processing in the nucleus</td><td>0.166666667</td><td>3</td></tr>\n",
       "\t<tr><th scope=row>43824</th><td>GO:0019221</td><td>tRNA processing in the nucleus</td><td>0.125000000</td><td>3</td></tr>\n",
       "\t<tr><th scope=row>43825</th><td>GO:0030032</td><td>tRNA processing in the nucleus</td><td>0.111111111</td><td>1</td></tr>\n",
       "\t<tr><th scope=row>43826</th><td>GO:0031124</td><td>tRNA processing in the nucleus</td><td>0.125000000</td><td>1</td></tr>\n",
       "\t<tr><th scope=row>43827</th><td>GO:0031965</td><td>tRNA processing in the nucleus</td><td>0.181818182</td><td>4</td></tr>\n",
       "\t<tr><th scope=row>43828</th><td>GO:0044281</td><td>tRNA processing in the nucleus</td><td>0.023809524</td><td>3</td></tr>\n",
       "\t<tr><th scope=row>43829</th><td>GO:0046907</td><td>tRNA processing in the nucleus</td><td>0.142857143</td><td>1</td></tr>\n",
       "\t<tr><th scope=row>43830</th><td>GO:0051028</td><td>tRNA processing in the nucleus</td><td>0.500000000</td><td>4</td></tr>\n",
       "\t<tr><th scope=row>43831</th><td>GO:0055085</td><td>tRNA processing in the nucleus</td><td>0.065217391</td><td>3</td></tr>\n",
       "</tbody>\n",
       "</table>\n"
      ],
      "text/latex": [
       "A data.frame: 43831 × 4\n",
       "\\begin{tabular}{r|llll}\n",
       "  & go & reactome & jaccard & il\\\\\n",
       "  & <fct> & <fct> & <dbl> & <int>\\\\\n",
       "\\hline\n",
       "\t1 & GO:0000082 & ABC transporter disorders & 0.200000000 & 2\\\\\n",
       "\t2 & GO:0000209 & ABC transporter disorders & 0.142857143 & 2\\\\\n",
       "\t3 & GO:0000278 & ABC transporter disorders & 0.068965517 & 2\\\\\n",
       "\t4 & GO:0000502 & ABC transporter disorders & 0.166666667 & 1\\\\\n",
       "\t5 & GO:0002474 & ABC transporter disorders & 0.153846154 & 2\\\\\n",
       "\t6 & GO:0002479 & ABC transporter disorders & 0.250000000 & 2\\\\\n",
       "\t7 & GO:0002931 & ABC transporter disorders & 0.125000000 & 1\\\\\n",
       "\t8 & GO:0004842 & ABC transporter disorders & 0.035714286 & 1\\\\\n",
       "\t9 & GO:0004866 & ABC transporter disorders & 0.090909091 & 1\\\\\n",
       "\t10 & GO:0005242 & ABC transporter disorders & 0.166666667 & 1\\\\\n",
       "\t11 & GO:0005249 & ABC transporter disorders & 0.111111111 & 1\\\\\n",
       "\t12 & GO:0005488 & ABC transporter disorders & 0.022222222 & 1\\\\\n",
       "\t13 & GO:0005515 & ABC transporter disorders & 0.008333333 & 5\\\\\n",
       "\t14 & GO:0005524 & ABC transporter disorders & 0.008474576 & 1\\\\\n",
       "\t15 & GO:0005635 & ABC transporter disorders & 0.062500000 & 1\\\\\n",
       "\t16 & GO:0005654 & ABC transporter disorders & 0.027397260 & 2\\\\\n",
       "\t17 & GO:0005737 & ABC transporter disorders & 0.002881844 & 1\\\\\n",
       "\t18 & GO:0005739 & ABC transporter disorders & 0.006896552 & 1\\\\\n",
       "\t19 & GO:0005768 & ABC transporter disorders & 0.058823529 & 1\\\\\n",
       "\t20 & GO:0005783 & ABC transporter disorders & 0.018181818 & 1\\\\\n",
       "\t21 & GO:0005788 & ABC transporter disorders & 0.037037037 & 1\\\\\n",
       "\t22 & GO:0005789 & ABC transporter disorders & 0.015384615 & 1\\\\\n",
       "\t23 & GO:0005829 & ABC transporter disorders & 0.017341040 & 3\\\\\n",
       "\t24 & GO:0005886 & ABC transporter disorders & 0.004672897 & 1\\\\\n",
       "\t25 & GO:0005887 & ABC transporter disorders & 0.013888889 & 1\\\\\n",
       "\t26 & GO:0006006 & ABC transporter disorders & 0.111111111 & 1\\\\\n",
       "\t27 & GO:0006112 & ABC transporter disorders & 0.090909091 & 1\\\\\n",
       "\t28 & GO:0006511 & ABC transporter disorders & 0.058823529 & 1\\\\\n",
       "\t29 & GO:0006521 & ABC transporter disorders & 0.400000000 & 2\\\\\n",
       "\t30 & GO:0006813 & ABC transporter disorders & 0.090909091 & 1\\\\\n",
       "\t⋮ & ⋮ & ⋮ & ⋮ & ⋮\\\\\n",
       "\t43802 & GO:0005515 & tRNA processing in the nucleus & 0.008333333 & 5\\\\\n",
       "\t43803 & GO:0005634 & tRNA processing in the nucleus & 0.003095975 & 1\\\\\n",
       "\t43804 & GO:0005635 & tRNA processing in the nucleus & 0.133333333 & 2\\\\\n",
       "\t43805 & GO:0005643 & tRNA processing in the nucleus & 0.333333333 & 3\\\\\n",
       "\t43806 & GO:0005654 & tRNA processing in the nucleus & 0.041666667 & 3\\\\\n",
       "\t43807 & GO:0005737 & tRNA processing in the nucleus & 0.002881844 & 1\\\\\n",
       "\t43808 & GO:0005789 & tRNA processing in the nucleus & 0.015384615 & 1\\\\\n",
       "\t43809 & GO:0005819 & tRNA processing in the nucleus & 0.066666667 & 1\\\\\n",
       "\t43810 & GO:0005829 & tRNA processing in the nucleus & 0.005714286 & 1\\\\\n",
       "\t43811 & GO:0005847 & tRNA processing in the nucleus & 0.166666667 & 1\\\\\n",
       "\t43812 & GO:0005975 & tRNA processing in the nucleus & 0.107142857 & 3\\\\\n",
       "\t43813 & GO:0006366 & tRNA processing in the nucleus & 0.033333333 & 1\\\\\n",
       "\t43814 & GO:0006378 & tRNA processing in the nucleus & 0.142857143 & 1\\\\\n",
       "\t43815 & GO:0006406 & tRNA processing in the nucleus & 0.111111111 & 1\\\\\n",
       "\t43816 & GO:0006605 & tRNA processing in the nucleus & 0.111111111 & 1\\\\\n",
       "\t43817 & GO:0006913 & tRNA processing in the nucleus & 0.076923077 & 1\\\\\n",
       "\t43818 & GO:0006935 & tRNA processing in the nucleus & 0.125000000 & 1\\\\\n",
       "\t43819 & GO:0008380 & tRNA processing in the nucleus & 0.058823529 & 1\\\\\n",
       "\t43820 & GO:0010467 & tRNA processing in the nucleus & 0.027027027 & 1\\\\\n",
       "\t43821 & GO:0010827 & tRNA processing in the nucleus & 0.600000000 & 3\\\\\n",
       "\t43822 & GO:0015031 & tRNA processing in the nucleus & 0.055555556 & 3\\\\\n",
       "\t43823 & GO:0016032 & tRNA processing in the nucleus & 0.166666667 & 3\\\\\n",
       "\t43824 & GO:0019221 & tRNA processing in the nucleus & 0.125000000 & 3\\\\\n",
       "\t43825 & GO:0030032 & tRNA processing in the nucleus & 0.111111111 & 1\\\\\n",
       "\t43826 & GO:0031124 & tRNA processing in the nucleus & 0.125000000 & 1\\\\\n",
       "\t43827 & GO:0031965 & tRNA processing in the nucleus & 0.181818182 & 4\\\\\n",
       "\t43828 & GO:0044281 & tRNA processing in the nucleus & 0.023809524 & 3\\\\\n",
       "\t43829 & GO:0046907 & tRNA processing in the nucleus & 0.142857143 & 1\\\\\n",
       "\t43830 & GO:0051028 & tRNA processing in the nucleus & 0.500000000 & 4\\\\\n",
       "\t43831 & GO:0055085 & tRNA processing in the nucleus & 0.065217391 & 3\\\\\n",
       "\\end{tabular}\n"
      ],
      "text/markdown": [
       "\n",
       "A data.frame: 43831 × 4\n",
       "\n",
       "| <!--/--> | go &lt;fct&gt; | reactome &lt;fct&gt; | jaccard &lt;dbl&gt; | il &lt;int&gt; |\n",
       "|---|---|---|---|---|\n",
       "| 1 | GO:0000082 | ABC transporter disorders | 0.200000000 | 2 |\n",
       "| 2 | GO:0000209 | ABC transporter disorders | 0.142857143 | 2 |\n",
       "| 3 | GO:0000278 | ABC transporter disorders | 0.068965517 | 2 |\n",
       "| 4 | GO:0000502 | ABC transporter disorders | 0.166666667 | 1 |\n",
       "| 5 | GO:0002474 | ABC transporter disorders | 0.153846154 | 2 |\n",
       "| 6 | GO:0002479 | ABC transporter disorders | 0.250000000 | 2 |\n",
       "| 7 | GO:0002931 | ABC transporter disorders | 0.125000000 | 1 |\n",
       "| 8 | GO:0004842 | ABC transporter disorders | 0.035714286 | 1 |\n",
       "| 9 | GO:0004866 | ABC transporter disorders | 0.090909091 | 1 |\n",
       "| 10 | GO:0005242 | ABC transporter disorders | 0.166666667 | 1 |\n",
       "| 11 | GO:0005249 | ABC transporter disorders | 0.111111111 | 1 |\n",
       "| 12 | GO:0005488 | ABC transporter disorders | 0.022222222 | 1 |\n",
       "| 13 | GO:0005515 | ABC transporter disorders | 0.008333333 | 5 |\n",
       "| 14 | GO:0005524 | ABC transporter disorders | 0.008474576 | 1 |\n",
       "| 15 | GO:0005635 | ABC transporter disorders | 0.062500000 | 1 |\n",
       "| 16 | GO:0005654 | ABC transporter disorders | 0.027397260 | 2 |\n",
       "| 17 | GO:0005737 | ABC transporter disorders | 0.002881844 | 1 |\n",
       "| 18 | GO:0005739 | ABC transporter disorders | 0.006896552 | 1 |\n",
       "| 19 | GO:0005768 | ABC transporter disorders | 0.058823529 | 1 |\n",
       "| 20 | GO:0005783 | ABC transporter disorders | 0.018181818 | 1 |\n",
       "| 21 | GO:0005788 | ABC transporter disorders | 0.037037037 | 1 |\n",
       "| 22 | GO:0005789 | ABC transporter disorders | 0.015384615 | 1 |\n",
       "| 23 | GO:0005829 | ABC transporter disorders | 0.017341040 | 3 |\n",
       "| 24 | GO:0005886 | ABC transporter disorders | 0.004672897 | 1 |\n",
       "| 25 | GO:0005887 | ABC transporter disorders | 0.013888889 | 1 |\n",
       "| 26 | GO:0006006 | ABC transporter disorders | 0.111111111 | 1 |\n",
       "| 27 | GO:0006112 | ABC transporter disorders | 0.090909091 | 1 |\n",
       "| 28 | GO:0006511 | ABC transporter disorders | 0.058823529 | 1 |\n",
       "| 29 | GO:0006521 | ABC transporter disorders | 0.400000000 | 2 |\n",
       "| 30 | GO:0006813 | ABC transporter disorders | 0.090909091 | 1 |\n",
       "| ⋮ | ⋮ | ⋮ | ⋮ | ⋮ |\n",
       "| 43802 | GO:0005515 | tRNA processing in the nucleus | 0.008333333 | 5 |\n",
       "| 43803 | GO:0005634 | tRNA processing in the nucleus | 0.003095975 | 1 |\n",
       "| 43804 | GO:0005635 | tRNA processing in the nucleus | 0.133333333 | 2 |\n",
       "| 43805 | GO:0005643 | tRNA processing in the nucleus | 0.333333333 | 3 |\n",
       "| 43806 | GO:0005654 | tRNA processing in the nucleus | 0.041666667 | 3 |\n",
       "| 43807 | GO:0005737 | tRNA processing in the nucleus | 0.002881844 | 1 |\n",
       "| 43808 | GO:0005789 | tRNA processing in the nucleus | 0.015384615 | 1 |\n",
       "| 43809 | GO:0005819 | tRNA processing in the nucleus | 0.066666667 | 1 |\n",
       "| 43810 | GO:0005829 | tRNA processing in the nucleus | 0.005714286 | 1 |\n",
       "| 43811 | GO:0005847 | tRNA processing in the nucleus | 0.166666667 | 1 |\n",
       "| 43812 | GO:0005975 | tRNA processing in the nucleus | 0.107142857 | 3 |\n",
       "| 43813 | GO:0006366 | tRNA processing in the nucleus | 0.033333333 | 1 |\n",
       "| 43814 | GO:0006378 | tRNA processing in the nucleus | 0.142857143 | 1 |\n",
       "| 43815 | GO:0006406 | tRNA processing in the nucleus | 0.111111111 | 1 |\n",
       "| 43816 | GO:0006605 | tRNA processing in the nucleus | 0.111111111 | 1 |\n",
       "| 43817 | GO:0006913 | tRNA processing in the nucleus | 0.076923077 | 1 |\n",
       "| 43818 | GO:0006935 | tRNA processing in the nucleus | 0.125000000 | 1 |\n",
       "| 43819 | GO:0008380 | tRNA processing in the nucleus | 0.058823529 | 1 |\n",
       "| 43820 | GO:0010467 | tRNA processing in the nucleus | 0.027027027 | 1 |\n",
       "| 43821 | GO:0010827 | tRNA processing in the nucleus | 0.600000000 | 3 |\n",
       "| 43822 | GO:0015031 | tRNA processing in the nucleus | 0.055555556 | 3 |\n",
       "| 43823 | GO:0016032 | tRNA processing in the nucleus | 0.166666667 | 3 |\n",
       "| 43824 | GO:0019221 | tRNA processing in the nucleus | 0.125000000 | 3 |\n",
       "| 43825 | GO:0030032 | tRNA processing in the nucleus | 0.111111111 | 1 |\n",
       "| 43826 | GO:0031124 | tRNA processing in the nucleus | 0.125000000 | 1 |\n",
       "| 43827 | GO:0031965 | tRNA processing in the nucleus | 0.181818182 | 4 |\n",
       "| 43828 | GO:0044281 | tRNA processing in the nucleus | 0.023809524 | 3 |\n",
       "| 43829 | GO:0046907 | tRNA processing in the nucleus | 0.142857143 | 1 |\n",
       "| 43830 | GO:0051028 | tRNA processing in the nucleus | 0.500000000 | 4 |\n",
       "| 43831 | GO:0055085 | tRNA processing in the nucleus | 0.065217391 | 3 |\n",
       "\n"
      ],
      "text/plain": [
       "      go         reactome                       jaccard     il\n",
       "1     GO:0000082 ABC transporter disorders      0.200000000 2 \n",
       "2     GO:0000209 ABC transporter disorders      0.142857143 2 \n",
       "3     GO:0000278 ABC transporter disorders      0.068965517 2 \n",
       "4     GO:0000502 ABC transporter disorders      0.166666667 1 \n",
       "5     GO:0002474 ABC transporter disorders      0.153846154 2 \n",
       "6     GO:0002479 ABC transporter disorders      0.250000000 2 \n",
       "7     GO:0002931 ABC transporter disorders      0.125000000 1 \n",
       "8     GO:0004842 ABC transporter disorders      0.035714286 1 \n",
       "9     GO:0004866 ABC transporter disorders      0.090909091 1 \n",
       "10    GO:0005242 ABC transporter disorders      0.166666667 1 \n",
       "11    GO:0005249 ABC transporter disorders      0.111111111 1 \n",
       "12    GO:0005488 ABC transporter disorders      0.022222222 1 \n",
       "13    GO:0005515 ABC transporter disorders      0.008333333 5 \n",
       "14    GO:0005524 ABC transporter disorders      0.008474576 1 \n",
       "15    GO:0005635 ABC transporter disorders      0.062500000 1 \n",
       "16    GO:0005654 ABC transporter disorders      0.027397260 2 \n",
       "17    GO:0005737 ABC transporter disorders      0.002881844 1 \n",
       "18    GO:0005739 ABC transporter disorders      0.006896552 1 \n",
       "19    GO:0005768 ABC transporter disorders      0.058823529 1 \n",
       "20    GO:0005783 ABC transporter disorders      0.018181818 1 \n",
       "21    GO:0005788 ABC transporter disorders      0.037037037 1 \n",
       "22    GO:0005789 ABC transporter disorders      0.015384615 1 \n",
       "23    GO:0005829 ABC transporter disorders      0.017341040 3 \n",
       "24    GO:0005886 ABC transporter disorders      0.004672897 1 \n",
       "25    GO:0005887 ABC transporter disorders      0.013888889 1 \n",
       "26    GO:0006006 ABC transporter disorders      0.111111111 1 \n",
       "27    GO:0006112 ABC transporter disorders      0.090909091 1 \n",
       "28    GO:0006511 ABC transporter disorders      0.058823529 1 \n",
       "29    GO:0006521 ABC transporter disorders      0.400000000 2 \n",
       "30    GO:0006813 ABC transporter disorders      0.090909091 1 \n",
       "⋮     ⋮          ⋮                              ⋮           ⋮ \n",
       "43802 GO:0005515 tRNA processing in the nucleus 0.008333333 5 \n",
       "43803 GO:0005634 tRNA processing in the nucleus 0.003095975 1 \n",
       "43804 GO:0005635 tRNA processing in the nucleus 0.133333333 2 \n",
       "43805 GO:0005643 tRNA processing in the nucleus 0.333333333 3 \n",
       "43806 GO:0005654 tRNA processing in the nucleus 0.041666667 3 \n",
       "43807 GO:0005737 tRNA processing in the nucleus 0.002881844 1 \n",
       "43808 GO:0005789 tRNA processing in the nucleus 0.015384615 1 \n",
       "43809 GO:0005819 tRNA processing in the nucleus 0.066666667 1 \n",
       "43810 GO:0005829 tRNA processing in the nucleus 0.005714286 1 \n",
       "43811 GO:0005847 tRNA processing in the nucleus 0.166666667 1 \n",
       "43812 GO:0005975 tRNA processing in the nucleus 0.107142857 3 \n",
       "43813 GO:0006366 tRNA processing in the nucleus 0.033333333 1 \n",
       "43814 GO:0006378 tRNA processing in the nucleus 0.142857143 1 \n",
       "43815 GO:0006406 tRNA processing in the nucleus 0.111111111 1 \n",
       "43816 GO:0006605 tRNA processing in the nucleus 0.111111111 1 \n",
       "43817 GO:0006913 tRNA processing in the nucleus 0.076923077 1 \n",
       "43818 GO:0006935 tRNA processing in the nucleus 0.125000000 1 \n",
       "43819 GO:0008380 tRNA processing in the nucleus 0.058823529 1 \n",
       "43820 GO:0010467 tRNA processing in the nucleus 0.027027027 1 \n",
       "43821 GO:0010827 tRNA processing in the nucleus 0.600000000 3 \n",
       "43822 GO:0015031 tRNA processing in the nucleus 0.055555556 3 \n",
       "43823 GO:0016032 tRNA processing in the nucleus 0.166666667 3 \n",
       "43824 GO:0019221 tRNA processing in the nucleus 0.125000000 3 \n",
       "43825 GO:0030032 tRNA processing in the nucleus 0.111111111 1 \n",
       "43826 GO:0031124 tRNA processing in the nucleus 0.125000000 1 \n",
       "43827 GO:0031965 tRNA processing in the nucleus 0.181818182 4 \n",
       "43828 GO:0044281 tRNA processing in the nucleus 0.023809524 3 \n",
       "43829 GO:0046907 tRNA processing in the nucleus 0.142857143 1 \n",
       "43830 GO:0051028 tRNA processing in the nucleus 0.500000000 4 \n",
       "43831 GO:0055085 tRNA processing in the nucleus 0.065217391 3 "
      ]
     },
     "metadata": {},
     "output_type": "display_data"
    }
   ],
   "source": [
    "path_names"
   ]
  },
  {
   "cell_type": "code",
   "execution_count": 36,
   "id": "ecc989f6-6878-4134-b991-0879ab2ea768",
   "metadata": {},
   "outputs": [],
   "source": [
    "readr::write_tsv(path_names, \"/scratch/tmp/dolgalev/castom-igex-revision/results/palas_liver_go_reactome_jaccard.tsv\")"
   ]
  },
  {
   "cell_type": "code",
   "execution_count": 13,
   "id": "17814a92-e953-4e10-8d64-b52595ab2ca8",
   "metadata": {},
   "outputs": [
    {
     "data": {
      "text/plain": [
       "86.7 MB"
      ]
     },
     "metadata": {},
     "output_type": "display_data"
    }
   ],
   "source": [
    "pryr::mem_used()"
   ]
  },
  {
   "cell_type": "code",
   "execution_count": 37,
   "id": "0bf9a613-6c6e-4077-9a68-49b97cca2a96",
   "metadata": {},
   "outputs": [],
   "source": [
    "samp <- readr::read_delim(\"/cloud/wwu1/h_fungenpsy/AGZiller_data/CASTOMiGEx/CAD_UKBB/eQTL_PROJECT/INPUT_DATA_GTEx/CAD/Covariates/UKBB/covariateMatrix_latestW_202304.txt\")"
   ]
  },
  {
   "cell_type": "code",
   "execution_count": 38,
   "id": "ca3e639e-9bda-493f-81bc-1bbaae9c46cb",
   "metadata": {},
   "outputs": [],
   "source": [
    "go_scores <- list()\n",
    "\n",
    "for (i in 1:100) {\n",
    "  split <- get(load(sprintf(\"Liver/200kb/CAD_GWAS_bin5e-2/UKBB/devgeno0.01_testdevgeno0/Pathway_GO_scores_splitPath%s.RData\", i)))\n",
    "  \n",
    "  go_scores[[i]] <- split\n",
    "}\n",
    "\n",
    "go_scores <- do.call(rbind, go_scores)"
   ]
  },
  {
   "cell_type": "code",
   "execution_count": 39,
   "id": "5de701a9-cc73-40c6-a6ee-9792e4e890fd",
   "metadata": {},
   "outputs": [],
   "source": [
    "go_scores <- go_scores[go_scores$path %in% path_names$go, ]"
   ]
  },
  {
   "cell_type": "code",
   "execution_count": 40,
   "id": "483706f7-34ba-4d5f-8ccb-80649563050e",
   "metadata": {},
   "outputs": [],
   "source": [
    "rownames(go_scores) <- NULL"
   ]
  },
  {
   "cell_type": "code",
   "execution_count": 41,
   "id": "41fa04b5-e269-4d1c-acb5-f10e20b5d572",
   "metadata": {},
   "outputs": [],
   "source": [
    "go_scores <- tibble::column_to_rownames(go_scores, \"path\")"
   ]
  },
  {
   "cell_type": "code",
   "execution_count": 42,
   "id": "75ed6f72-6850-4e44-a48e-a3ed41033647",
   "metadata": {},
   "outputs": [],
   "source": [
    "go_scores <- go_scores[, colnames(go_scores) %in% samp$Individual_ID]"
   ]
  },
  {
   "cell_type": "code",
   "execution_count": 43,
   "id": "c1ba48cb-9aee-46f2-8cd2-1fd56f4a1770",
   "metadata": {},
   "outputs": [],
   "source": [
    "react_scores <- list()\n",
    "\n",
    "for (i in 1:100) {\n",
    "  split <- get(load(sprintf(\"Liver/200kb/CAD_GWAS_bin5e-2/UKBB/devgeno0.01_testdevgeno0/Pathway_Reactome_scores_splitPath%s.RData\", i)))\n",
    "  \n",
    "  react_scores[[i]] <- split\n",
    "}\n",
    "\n",
    "react_scores <- do.call(rbind, react_scores)"
   ]
  },
  {
   "cell_type": "code",
   "execution_count": 44,
   "id": "ca6c4554-c1e1-4527-b194-ed2ea76c41ba",
   "metadata": {},
   "outputs": [],
   "source": [
    "react_scores <- react_scores[react_scores$path %in% path_names$reactome, ]"
   ]
  },
  {
   "cell_type": "code",
   "execution_count": 45,
   "id": "4cec9cfc-fdab-46ae-9686-5d1bb087e13e",
   "metadata": {},
   "outputs": [],
   "source": [
    "rownames(react_scores) <- NULL"
   ]
  },
  {
   "cell_type": "code",
   "execution_count": 46,
   "id": "d33dc7e0-5236-4e98-b848-7ec33e212232",
   "metadata": {},
   "outputs": [],
   "source": [
    "react_scores <- tibble::column_to_rownames(react_scores, \"path\")"
   ]
  },
  {
   "cell_type": "code",
   "execution_count": 47,
   "id": "453c1662-a784-4924-be5a-643042de7dcf",
   "metadata": {},
   "outputs": [],
   "source": [
    "react_scores <- react_scores[, colnames(react_scores) %in% samp$Individual_ID]"
   ]
  },
  {
   "cell_type": "code",
   "execution_count": 48,
   "id": "1b1e61fc-01d7-4eee-818e-5f289ac96ac9",
   "metadata": {},
   "outputs": [
    {
     "data": {
      "text/html": [
       "<table class=\"dataframe\">\n",
       "<caption>A data.frame: 6 × 340851</caption>\n",
       "<thead>\n",
       "\t<tr><th></th><th scope=col>X3958967</th><th scope=col>X5903051</th><th scope=col>X2135894</th><th scope=col>X1136241</th><th scope=col>X2232191</th><th scope=col>X1464958</th><th scope=col>X3901966</th><th scope=col>X2316364</th><th scope=col>X3674451</th><th scope=col>X4498514</th><th scope=col>⋯</th><th scope=col>X1227791</th><th scope=col>X2734099</th><th scope=col>X3419450</th><th scope=col>X4365009</th><th scope=col>X5251890</th><th scope=col>X3434927</th><th scope=col>X1909626</th><th scope=col>X3317476</th><th scope=col>X3749423</th><th scope=col>X4520275</th></tr>\n",
       "\t<tr><th></th><th scope=col>&lt;dbl&gt;</th><th scope=col>&lt;dbl&gt;</th><th scope=col>&lt;dbl&gt;</th><th scope=col>&lt;dbl&gt;</th><th scope=col>&lt;dbl&gt;</th><th scope=col>&lt;dbl&gt;</th><th scope=col>&lt;dbl&gt;</th><th scope=col>&lt;dbl&gt;</th><th scope=col>&lt;dbl&gt;</th><th scope=col>&lt;dbl&gt;</th><th scope=col>⋯</th><th scope=col>&lt;dbl&gt;</th><th scope=col>&lt;dbl&gt;</th><th scope=col>&lt;dbl&gt;</th><th scope=col>&lt;dbl&gt;</th><th scope=col>&lt;dbl&gt;</th><th scope=col>&lt;dbl&gt;</th><th scope=col>&lt;dbl&gt;</th><th scope=col>&lt;dbl&gt;</th><th scope=col>&lt;dbl&gt;</th><th scope=col>&lt;dbl&gt;</th></tr>\n",
       "</thead>\n",
       "<tbody>\n",
       "\t<tr><th scope=row>ABC transporter disorders</th><td> 104.2734</td><td>-121.27094</td><td>  14.12642</td><td>  38.51307</td><td> -76.01640</td><td> -90.88372</td><td>  77.75007</td><td>-121.09635</td><td> -88.32318</td><td>-188.34618</td><td>⋯</td><td>  60.50831</td><td> 129.42856</td><td>-415.89879</td><td> 158.1429</td><td>  78.630946</td><td> 144.40209</td><td>  73.047333</td><td> -75.31653</td><td>  18.65187</td><td>  44.18983</td></tr>\n",
       "\t<tr><th scope=row>ABC-family proteins mediated transport</th><td> 207.0104</td><td> -22.31076</td><td>  81.56112</td><td> -27.53562</td><td> -45.67738</td><td>-118.95320</td><td>  65.23231</td><td> -73.37498</td><td> -54.39086</td><td>-188.62107</td><td>⋯</td><td>  11.77692</td><td> 162.12630</td><td>-231.70824</td><td> 122.9482</td><td>  64.845628</td><td> 111.75892</td><td>   1.282966</td><td>-109.01064</td><td> -39.99095</td><td> 119.76002</td></tr>\n",
       "\t<tr><th scope=row>AKT phosphorylates targets in the cytosol</th><td> 181.1775</td><td>-262.18787</td><td> -22.71141</td><td> 254.91273</td><td>-136.95944</td><td> -29.89373</td><td> 344.23775</td><td>  20.02005</td><td>-283.02554</td><td>-176.46557</td><td>⋯</td><td> 278.58062</td><td> 205.79709</td><td>-244.65176</td><td>-223.0836</td><td> 353.029406</td><td>-227.22247</td><td>-105.633776</td><td> 138.33212</td><td>-142.42161</td><td>-220.66711</td></tr>\n",
       "\t<tr><th scope=row>ALKBH3 mediated reversal of alkylation damage</th><td>-157.5902</td><td>  84.09889</td><td>-436.18144</td><td>-191.36819</td><td> 421.12508</td><td>  45.58591</td><td>-297.96995</td><td> 299.33840</td><td>-343.07287</td><td> 111.88542</td><td>⋯</td><td>-151.44989</td><td>-128.70785</td><td> -47.20405</td><td> 748.9096</td><td> 114.521978</td><td>-125.89163</td><td> 534.745162</td><td> 169.61844</td><td>-218.95201</td><td> 254.54955</td></tr>\n",
       "\t<tr><th scope=row>APC/C-mediated degradation of cell cycle proteins</th><td>-132.0759</td><td> 156.37503</td><td> -72.93071</td><td> -38.47591</td><td> -36.29423</td><td> -11.91630</td><td> 123.01583</td><td>-192.71545</td><td>-107.38355</td><td> 109.45442</td><td>⋯</td><td> 113.37500</td><td> 112.77432</td><td>-100.91560</td><td> 301.1958</td><td>   1.797536</td><td> -46.32257</td><td> 243.673481</td><td> -94.99169</td><td>  37.18944</td><td> 188.67560</td></tr>\n",
       "\t<tr><th scope=row>Abacavir transport and metabolism</th><td> -33.7155</td><td> 205.75764</td><td> 114.92581</td><td>-176.10706</td><td>-342.29489</td><td> 195.27036</td><td>-162.07043</td><td> 228.77272</td><td> -43.98184</td><td>  80.73897</td><td>⋯</td><td> 296.01434</td><td>  80.73897</td><td>-427.67763</td><td> 131.8237</td><td>-273.443637</td><td> 307.04769</td><td>  92.721540</td><td> -27.80178</td><td> 145.25397</td><td>-204.14006</td></tr>\n",
       "</tbody>\n",
       "</table>\n"
      ],
      "text/latex": [
       "A data.frame: 6 × 340851\n",
       "\\begin{tabular}{r|lllllllllllllllllllll}\n",
       "  & X3958967 & X5903051 & X2135894 & X1136241 & X2232191 & X1464958 & X3901966 & X2316364 & X3674451 & X4498514 & ⋯ & X1227791 & X2734099 & X3419450 & X4365009 & X5251890 & X3434927 & X1909626 & X3317476 & X3749423 & X4520275\\\\\n",
       "  & <dbl> & <dbl> & <dbl> & <dbl> & <dbl> & <dbl> & <dbl> & <dbl> & <dbl> & <dbl> & ⋯ & <dbl> & <dbl> & <dbl> & <dbl> & <dbl> & <dbl> & <dbl> & <dbl> & <dbl> & <dbl>\\\\\n",
       "\\hline\n",
       "\tABC transporter disorders &  104.2734 & -121.27094 &   14.12642 &   38.51307 &  -76.01640 &  -90.88372 &   77.75007 & -121.09635 &  -88.32318 & -188.34618 & ⋯ &   60.50831 &  129.42856 & -415.89879 &  158.1429 &   78.630946 &  144.40209 &   73.047333 &  -75.31653 &   18.65187 &   44.18983\\\\\n",
       "\tABC-family proteins mediated transport &  207.0104 &  -22.31076 &   81.56112 &  -27.53562 &  -45.67738 & -118.95320 &   65.23231 &  -73.37498 &  -54.39086 & -188.62107 & ⋯ &   11.77692 &  162.12630 & -231.70824 &  122.9482 &   64.845628 &  111.75892 &    1.282966 & -109.01064 &  -39.99095 &  119.76002\\\\\n",
       "\tAKT phosphorylates targets in the cytosol &  181.1775 & -262.18787 &  -22.71141 &  254.91273 & -136.95944 &  -29.89373 &  344.23775 &   20.02005 & -283.02554 & -176.46557 & ⋯ &  278.58062 &  205.79709 & -244.65176 & -223.0836 &  353.029406 & -227.22247 & -105.633776 &  138.33212 & -142.42161 & -220.66711\\\\\n",
       "\tALKBH3 mediated reversal of alkylation damage & -157.5902 &   84.09889 & -436.18144 & -191.36819 &  421.12508 &   45.58591 & -297.96995 &  299.33840 & -343.07287 &  111.88542 & ⋯ & -151.44989 & -128.70785 &  -47.20405 &  748.9096 &  114.521978 & -125.89163 &  534.745162 &  169.61844 & -218.95201 &  254.54955\\\\\n",
       "\tAPC/C-mediated degradation of cell cycle proteins & -132.0759 &  156.37503 &  -72.93071 &  -38.47591 &  -36.29423 &  -11.91630 &  123.01583 & -192.71545 & -107.38355 &  109.45442 & ⋯ &  113.37500 &  112.77432 & -100.91560 &  301.1958 &    1.797536 &  -46.32257 &  243.673481 &  -94.99169 &   37.18944 &  188.67560\\\\\n",
       "\tAbacavir transport and metabolism &  -33.7155 &  205.75764 &  114.92581 & -176.10706 & -342.29489 &  195.27036 & -162.07043 &  228.77272 &  -43.98184 &   80.73897 & ⋯ &  296.01434 &   80.73897 & -427.67763 &  131.8237 & -273.443637 &  307.04769 &   92.721540 &  -27.80178 &  145.25397 & -204.14006\\\\\n",
       "\\end{tabular}\n"
      ],
      "text/markdown": [
       "\n",
       "A data.frame: 6 × 340851\n",
       "\n",
       "| <!--/--> | X3958967 &lt;dbl&gt; | X5903051 &lt;dbl&gt; | X2135894 &lt;dbl&gt; | X1136241 &lt;dbl&gt; | X2232191 &lt;dbl&gt; | X1464958 &lt;dbl&gt; | X3901966 &lt;dbl&gt; | X2316364 &lt;dbl&gt; | X3674451 &lt;dbl&gt; | X4498514 &lt;dbl&gt; | ⋯ ⋯ | X1227791 &lt;dbl&gt; | X2734099 &lt;dbl&gt; | X3419450 &lt;dbl&gt; | X4365009 &lt;dbl&gt; | X5251890 &lt;dbl&gt; | X3434927 &lt;dbl&gt; | X1909626 &lt;dbl&gt; | X3317476 &lt;dbl&gt; | X3749423 &lt;dbl&gt; | X4520275 &lt;dbl&gt; |\n",
       "|---|---|---|---|---|---|---|---|---|---|---|---|---|---|---|---|---|---|---|---|---|---|\n",
       "| ABC transporter disorders |  104.2734 | -121.27094 |   14.12642 |   38.51307 |  -76.01640 |  -90.88372 |   77.75007 | -121.09635 |  -88.32318 | -188.34618 | ⋯ |   60.50831 |  129.42856 | -415.89879 |  158.1429 |   78.630946 |  144.40209 |   73.047333 |  -75.31653 |   18.65187 |   44.18983 |\n",
       "| ABC-family proteins mediated transport |  207.0104 |  -22.31076 |   81.56112 |  -27.53562 |  -45.67738 | -118.95320 |   65.23231 |  -73.37498 |  -54.39086 | -188.62107 | ⋯ |   11.77692 |  162.12630 | -231.70824 |  122.9482 |   64.845628 |  111.75892 |    1.282966 | -109.01064 |  -39.99095 |  119.76002 |\n",
       "| AKT phosphorylates targets in the cytosol |  181.1775 | -262.18787 |  -22.71141 |  254.91273 | -136.95944 |  -29.89373 |  344.23775 |   20.02005 | -283.02554 | -176.46557 | ⋯ |  278.58062 |  205.79709 | -244.65176 | -223.0836 |  353.029406 | -227.22247 | -105.633776 |  138.33212 | -142.42161 | -220.66711 |\n",
       "| ALKBH3 mediated reversal of alkylation damage | -157.5902 |   84.09889 | -436.18144 | -191.36819 |  421.12508 |   45.58591 | -297.96995 |  299.33840 | -343.07287 |  111.88542 | ⋯ | -151.44989 | -128.70785 |  -47.20405 |  748.9096 |  114.521978 | -125.89163 |  534.745162 |  169.61844 | -218.95201 |  254.54955 |\n",
       "| APC/C-mediated degradation of cell cycle proteins | -132.0759 |  156.37503 |  -72.93071 |  -38.47591 |  -36.29423 |  -11.91630 |  123.01583 | -192.71545 | -107.38355 |  109.45442 | ⋯ |  113.37500 |  112.77432 | -100.91560 |  301.1958 |    1.797536 |  -46.32257 |  243.673481 |  -94.99169 |   37.18944 |  188.67560 |\n",
       "| Abacavir transport and metabolism |  -33.7155 |  205.75764 |  114.92581 | -176.10706 | -342.29489 |  195.27036 | -162.07043 |  228.77272 |  -43.98184 |   80.73897 | ⋯ |  296.01434 |   80.73897 | -427.67763 |  131.8237 | -273.443637 |  307.04769 |   92.721540 |  -27.80178 |  145.25397 | -204.14006 |\n",
       "\n"
      ],
      "text/plain": [
       "                                                  X3958967  X5903051  \n",
       "ABC transporter disorders                          104.2734 -121.27094\n",
       "ABC-family proteins mediated transport             207.0104  -22.31076\n",
       "AKT phosphorylates targets in the cytosol          181.1775 -262.18787\n",
       "ALKBH3 mediated reversal of alkylation damage     -157.5902   84.09889\n",
       "APC/C-mediated degradation of cell cycle proteins -132.0759  156.37503\n",
       "Abacavir transport and metabolism                  -33.7155  205.75764\n",
       "                                                  X2135894   X1136241  \n",
       "ABC transporter disorders                           14.12642   38.51307\n",
       "ABC-family proteins mediated transport              81.56112  -27.53562\n",
       "AKT phosphorylates targets in the cytosol          -22.71141  254.91273\n",
       "ALKBH3 mediated reversal of alkylation damage     -436.18144 -191.36819\n",
       "APC/C-mediated degradation of cell cycle proteins  -72.93071  -38.47591\n",
       "Abacavir transport and metabolism                  114.92581 -176.10706\n",
       "                                                  X2232191   X1464958  \n",
       "ABC transporter disorders                          -76.01640  -90.88372\n",
       "ABC-family proteins mediated transport             -45.67738 -118.95320\n",
       "AKT phosphorylates targets in the cytosol         -136.95944  -29.89373\n",
       "ALKBH3 mediated reversal of alkylation damage      421.12508   45.58591\n",
       "APC/C-mediated degradation of cell cycle proteins  -36.29423  -11.91630\n",
       "Abacavir transport and metabolism                 -342.29489  195.27036\n",
       "                                                  X3901966   X2316364  \n",
       "ABC transporter disorders                           77.75007 -121.09635\n",
       "ABC-family proteins mediated transport              65.23231  -73.37498\n",
       "AKT phosphorylates targets in the cytosol          344.23775   20.02005\n",
       "ALKBH3 mediated reversal of alkylation damage     -297.96995  299.33840\n",
       "APC/C-mediated degradation of cell cycle proteins  123.01583 -192.71545\n",
       "Abacavir transport and metabolism                 -162.07043  228.77272\n",
       "                                                  X3674451   X4498514   ⋯\n",
       "ABC transporter disorders                          -88.32318 -188.34618 ⋯\n",
       "ABC-family proteins mediated transport             -54.39086 -188.62107 ⋯\n",
       "AKT phosphorylates targets in the cytosol         -283.02554 -176.46557 ⋯\n",
       "ALKBH3 mediated reversal of alkylation damage     -343.07287  111.88542 ⋯\n",
       "APC/C-mediated degradation of cell cycle proteins -107.38355  109.45442 ⋯\n",
       "Abacavir transport and metabolism                  -43.98184   80.73897 ⋯\n",
       "                                                  X1227791   X2734099  \n",
       "ABC transporter disorders                           60.50831  129.42856\n",
       "ABC-family proteins mediated transport              11.77692  162.12630\n",
       "AKT phosphorylates targets in the cytosol          278.58062  205.79709\n",
       "ALKBH3 mediated reversal of alkylation damage     -151.44989 -128.70785\n",
       "APC/C-mediated degradation of cell cycle proteins  113.37500  112.77432\n",
       "Abacavir transport and metabolism                  296.01434   80.73897\n",
       "                                                  X3419450   X4365009 \n",
       "ABC transporter disorders                         -415.89879  158.1429\n",
       "ABC-family proteins mediated transport            -231.70824  122.9482\n",
       "AKT phosphorylates targets in the cytosol         -244.65176 -223.0836\n",
       "ALKBH3 mediated reversal of alkylation damage      -47.20405  748.9096\n",
       "APC/C-mediated degradation of cell cycle proteins -100.91560  301.1958\n",
       "Abacavir transport and metabolism                 -427.67763  131.8237\n",
       "                                                  X5251890    X3434927  \n",
       "ABC transporter disorders                           78.630946  144.40209\n",
       "ABC-family proteins mediated transport              64.845628  111.75892\n",
       "AKT phosphorylates targets in the cytosol          353.029406 -227.22247\n",
       "ALKBH3 mediated reversal of alkylation damage      114.521978 -125.89163\n",
       "APC/C-mediated degradation of cell cycle proteins    1.797536  -46.32257\n",
       "Abacavir transport and metabolism                 -273.443637  307.04769\n",
       "                                                  X1909626    X3317476  \n",
       "ABC transporter disorders                           73.047333  -75.31653\n",
       "ABC-family proteins mediated transport               1.282966 -109.01064\n",
       "AKT phosphorylates targets in the cytosol         -105.633776  138.33212\n",
       "ALKBH3 mediated reversal of alkylation damage      534.745162  169.61844\n",
       "APC/C-mediated degradation of cell cycle proteins  243.673481  -94.99169\n",
       "Abacavir transport and metabolism                   92.721540  -27.80178\n",
       "                                                  X3749423   X4520275  \n",
       "ABC transporter disorders                           18.65187   44.18983\n",
       "ABC-family proteins mediated transport             -39.99095  119.76002\n",
       "AKT phosphorylates targets in the cytosol         -142.42161 -220.66711\n",
       "ALKBH3 mediated reversal of alkylation damage     -218.95201  254.54955\n",
       "APC/C-mediated degradation of cell cycle proteins   37.18944  188.67560\n",
       "Abacavir transport and metabolism                  145.25397 -204.14006"
      ]
     },
     "metadata": {},
     "output_type": "display_data"
    }
   ],
   "source": [
    "head(react_scores)"
   ]
  },
  {
   "cell_type": "code",
   "execution_count": 49,
   "id": "06755c71-2ef7-4972-a5fa-99651f345df6",
   "metadata": {},
   "outputs": [
    {
     "data": {
      "text/html": [
       "<table class=\"dataframe\">\n",
       "<caption>A data.frame: 6 × 340851</caption>\n",
       "<thead>\n",
       "\t<tr><th></th><th scope=col>X3958967</th><th scope=col>X5903051</th><th scope=col>X2135894</th><th scope=col>X1136241</th><th scope=col>X2232191</th><th scope=col>X1464958</th><th scope=col>X3901966</th><th scope=col>X2316364</th><th scope=col>X3674451</th><th scope=col>X4498514</th><th scope=col>⋯</th><th scope=col>X1227791</th><th scope=col>X2734099</th><th scope=col>X3419450</th><th scope=col>X4365009</th><th scope=col>X5251890</th><th scope=col>X3434927</th><th scope=col>X1909626</th><th scope=col>X3317476</th><th scope=col>X3749423</th><th scope=col>X4520275</th></tr>\n",
       "\t<tr><th></th><th scope=col>&lt;dbl&gt;</th><th scope=col>&lt;dbl&gt;</th><th scope=col>&lt;dbl&gt;</th><th scope=col>&lt;dbl&gt;</th><th scope=col>&lt;dbl&gt;</th><th scope=col>&lt;dbl&gt;</th><th scope=col>&lt;dbl&gt;</th><th scope=col>&lt;dbl&gt;</th><th scope=col>&lt;dbl&gt;</th><th scope=col>&lt;dbl&gt;</th><th scope=col>⋯</th><th scope=col>&lt;dbl&gt;</th><th scope=col>&lt;dbl&gt;</th><th scope=col>&lt;dbl&gt;</th><th scope=col>&lt;dbl&gt;</th><th scope=col>&lt;dbl&gt;</th><th scope=col>&lt;dbl&gt;</th><th scope=col>&lt;dbl&gt;</th><th scope=col>&lt;dbl&gt;</th><th scope=col>&lt;dbl&gt;</th><th scope=col>&lt;dbl&gt;</th></tr>\n",
       "</thead>\n",
       "<tbody>\n",
       "\t<tr><th scope=row>GO:0000014</th><td>-119.090121</td><td> 178.52100</td><td>-377.19639</td><td> -60.06529</td><td>-367.221051</td><td> 335.74325</td><td>  46.45487</td><td> 355.01511</td><td> -80.157360</td><td>-239.85872</td><td>⋯</td><td>  58.60524</td><td>279.20538</td><td>-344.72800</td><td> -93.66374</td><td> 312.03960</td><td> 128.98375</td><td>  11.36783</td><td>  -1.26324</td><td>-157.503036</td><td> 176.64686</td></tr>\n",
       "\t<tr><th scope=row>GO:0000049</th><td>  -7.374903</td><td> 469.62301</td><td> -70.70274</td><td> 356.02834</td><td>   9.630602</td><td>  78.30119</td><td>-112.10974</td><td>-305.01798</td><td>-198.681544</td><td>  30.34726</td><td>⋯</td><td> -49.14478</td><td> 98.69458</td><td>  22.29536</td><td>-122.99321</td><td>  87.40704</td><td> 105.02687</td><td>  16.52173</td><td> -73.70603</td><td> 127.766951</td><td>-154.39554</td></tr>\n",
       "\t<tr><th scope=row>GO:0000070</th><td>  34.705540</td><td>  32.16938</td><td>  72.55456</td><td>-114.11220</td><td>-306.092698</td><td> 191.10332</td><td>  85.64553</td><td> -80.51403</td><td>  27.900068</td><td>  22.06178</td><td>⋯</td><td> 148.31763</td><td>468.85398</td><td>-123.62136</td><td> 230.39826</td><td>-190.82424</td><td>  93.22566</td><td>  29.01474</td><td> -93.62974</td><td>   4.348178</td><td>-254.66210</td></tr>\n",
       "\t<tr><th scope=row>GO:0000075</th><td>-139.713986</td><td> 153.86021</td><td>-340.05728</td><td>-198.78031</td><td> -21.421550</td><td> 158.17340</td><td>-182.82226</td><td> 243.26839</td><td>-310.448432</td><td> -95.31839</td><td>⋯</td><td> 351.55559</td><td>340.49169</td><td>-301.40615</td><td>-219.76431</td><td> 443.68304</td><td> 128.97161</td><td>-326.42242</td><td>-331.95046</td><td>-121.181986</td><td> 303.36906</td></tr>\n",
       "\t<tr><th scope=row>GO:0000077</th><td>-147.646526</td><td>-264.81566</td><td> -63.54468</td><td> -97.65296</td><td> 235.783950</td><td>-203.23399</td><td>  98.83398</td><td>-137.95637</td><td>  -3.433012</td><td>  24.79447</td><td>⋯</td><td>-227.97192</td><td> 23.96905</td><td>  30.24585</td><td>  91.08608</td><td>  72.76398</td><td> -59.47166</td><td> -13.87170</td><td> -37.07273</td><td>-162.351520</td><td> -90.35476</td></tr>\n",
       "\t<tr><th scope=row>GO:0000079</th><td> 156.729830</td><td>-184.79538</td><td> -74.30535</td><td>-291.89788</td><td> -91.470510</td><td>-164.26766</td><td>  19.71054</td><td> 214.65821</td><td> 173.065206</td><td> 230.18895</td><td>⋯</td><td> 103.71204</td><td>-13.55337</td><td>-242.85785</td><td>-151.64278</td><td> -84.50359</td><td>-280.88557</td><td> 126.69796</td><td>-304.88230</td><td>-233.473957</td><td>-201.72140</td></tr>\n",
       "</tbody>\n",
       "</table>\n"
      ],
      "text/latex": [
       "A data.frame: 6 × 340851\n",
       "\\begin{tabular}{r|lllllllllllllllllllll}\n",
       "  & X3958967 & X5903051 & X2135894 & X1136241 & X2232191 & X1464958 & X3901966 & X2316364 & X3674451 & X4498514 & ⋯ & X1227791 & X2734099 & X3419450 & X4365009 & X5251890 & X3434927 & X1909626 & X3317476 & X3749423 & X4520275\\\\\n",
       "  & <dbl> & <dbl> & <dbl> & <dbl> & <dbl> & <dbl> & <dbl> & <dbl> & <dbl> & <dbl> & ⋯ & <dbl> & <dbl> & <dbl> & <dbl> & <dbl> & <dbl> & <dbl> & <dbl> & <dbl> & <dbl>\\\\\n",
       "\\hline\n",
       "\tGO:0000014 & -119.090121 &  178.52100 & -377.19639 &  -60.06529 & -367.221051 &  335.74325 &   46.45487 &  355.01511 &  -80.157360 & -239.85872 & ⋯ &   58.60524 & 279.20538 & -344.72800 &  -93.66374 &  312.03960 &  128.98375 &   11.36783 &   -1.26324 & -157.503036 &  176.64686\\\\\n",
       "\tGO:0000049 &   -7.374903 &  469.62301 &  -70.70274 &  356.02834 &    9.630602 &   78.30119 & -112.10974 & -305.01798 & -198.681544 &   30.34726 & ⋯ &  -49.14478 &  98.69458 &   22.29536 & -122.99321 &   87.40704 &  105.02687 &   16.52173 &  -73.70603 &  127.766951 & -154.39554\\\\\n",
       "\tGO:0000070 &   34.705540 &   32.16938 &   72.55456 & -114.11220 & -306.092698 &  191.10332 &   85.64553 &  -80.51403 &   27.900068 &   22.06178 & ⋯ &  148.31763 & 468.85398 & -123.62136 &  230.39826 & -190.82424 &   93.22566 &   29.01474 &  -93.62974 &    4.348178 & -254.66210\\\\\n",
       "\tGO:0000075 & -139.713986 &  153.86021 & -340.05728 & -198.78031 &  -21.421550 &  158.17340 & -182.82226 &  243.26839 & -310.448432 &  -95.31839 & ⋯ &  351.55559 & 340.49169 & -301.40615 & -219.76431 &  443.68304 &  128.97161 & -326.42242 & -331.95046 & -121.181986 &  303.36906\\\\\n",
       "\tGO:0000077 & -147.646526 & -264.81566 &  -63.54468 &  -97.65296 &  235.783950 & -203.23399 &   98.83398 & -137.95637 &   -3.433012 &   24.79447 & ⋯ & -227.97192 &  23.96905 &   30.24585 &   91.08608 &   72.76398 &  -59.47166 &  -13.87170 &  -37.07273 & -162.351520 &  -90.35476\\\\\n",
       "\tGO:0000079 &  156.729830 & -184.79538 &  -74.30535 & -291.89788 &  -91.470510 & -164.26766 &   19.71054 &  214.65821 &  173.065206 &  230.18895 & ⋯ &  103.71204 & -13.55337 & -242.85785 & -151.64278 &  -84.50359 & -280.88557 &  126.69796 & -304.88230 & -233.473957 & -201.72140\\\\\n",
       "\\end{tabular}\n"
      ],
      "text/markdown": [
       "\n",
       "A data.frame: 6 × 340851\n",
       "\n",
       "| <!--/--> | X3958967 &lt;dbl&gt; | X5903051 &lt;dbl&gt; | X2135894 &lt;dbl&gt; | X1136241 &lt;dbl&gt; | X2232191 &lt;dbl&gt; | X1464958 &lt;dbl&gt; | X3901966 &lt;dbl&gt; | X2316364 &lt;dbl&gt; | X3674451 &lt;dbl&gt; | X4498514 &lt;dbl&gt; | ⋯ ⋯ | X1227791 &lt;dbl&gt; | X2734099 &lt;dbl&gt; | X3419450 &lt;dbl&gt; | X4365009 &lt;dbl&gt; | X5251890 &lt;dbl&gt; | X3434927 &lt;dbl&gt; | X1909626 &lt;dbl&gt; | X3317476 &lt;dbl&gt; | X3749423 &lt;dbl&gt; | X4520275 &lt;dbl&gt; |\n",
       "|---|---|---|---|---|---|---|---|---|---|---|---|---|---|---|---|---|---|---|---|---|---|\n",
       "| GO:0000014 | -119.090121 |  178.52100 | -377.19639 |  -60.06529 | -367.221051 |  335.74325 |   46.45487 |  355.01511 |  -80.157360 | -239.85872 | ⋯ |   58.60524 | 279.20538 | -344.72800 |  -93.66374 |  312.03960 |  128.98375 |   11.36783 |   -1.26324 | -157.503036 |  176.64686 |\n",
       "| GO:0000049 |   -7.374903 |  469.62301 |  -70.70274 |  356.02834 |    9.630602 |   78.30119 | -112.10974 | -305.01798 | -198.681544 |   30.34726 | ⋯ |  -49.14478 |  98.69458 |   22.29536 | -122.99321 |   87.40704 |  105.02687 |   16.52173 |  -73.70603 |  127.766951 | -154.39554 |\n",
       "| GO:0000070 |   34.705540 |   32.16938 |   72.55456 | -114.11220 | -306.092698 |  191.10332 |   85.64553 |  -80.51403 |   27.900068 |   22.06178 | ⋯ |  148.31763 | 468.85398 | -123.62136 |  230.39826 | -190.82424 |   93.22566 |   29.01474 |  -93.62974 |    4.348178 | -254.66210 |\n",
       "| GO:0000075 | -139.713986 |  153.86021 | -340.05728 | -198.78031 |  -21.421550 |  158.17340 | -182.82226 |  243.26839 | -310.448432 |  -95.31839 | ⋯ |  351.55559 | 340.49169 | -301.40615 | -219.76431 |  443.68304 |  128.97161 | -326.42242 | -331.95046 | -121.181986 |  303.36906 |\n",
       "| GO:0000077 | -147.646526 | -264.81566 |  -63.54468 |  -97.65296 |  235.783950 | -203.23399 |   98.83398 | -137.95637 |   -3.433012 |   24.79447 | ⋯ | -227.97192 |  23.96905 |   30.24585 |   91.08608 |   72.76398 |  -59.47166 |  -13.87170 |  -37.07273 | -162.351520 |  -90.35476 |\n",
       "| GO:0000079 |  156.729830 | -184.79538 |  -74.30535 | -291.89788 |  -91.470510 | -164.26766 |   19.71054 |  214.65821 |  173.065206 |  230.18895 | ⋯ |  103.71204 | -13.55337 | -242.85785 | -151.64278 |  -84.50359 | -280.88557 |  126.69796 | -304.88230 | -233.473957 | -201.72140 |\n",
       "\n"
      ],
      "text/plain": [
       "           X3958967    X5903051   X2135894   X1136241   X2232191    X1464958  \n",
       "GO:0000014 -119.090121  178.52100 -377.19639  -60.06529 -367.221051  335.74325\n",
       "GO:0000049   -7.374903  469.62301  -70.70274  356.02834    9.630602   78.30119\n",
       "GO:0000070   34.705540   32.16938   72.55456 -114.11220 -306.092698  191.10332\n",
       "GO:0000075 -139.713986  153.86021 -340.05728 -198.78031  -21.421550  158.17340\n",
       "GO:0000077 -147.646526 -264.81566  -63.54468  -97.65296  235.783950 -203.23399\n",
       "GO:0000079  156.729830 -184.79538  -74.30535 -291.89788  -91.470510 -164.26766\n",
       "           X3901966   X2316364   X3674451    X4498514   ⋯ X1227791   X2734099 \n",
       "GO:0000014   46.45487  355.01511  -80.157360 -239.85872 ⋯   58.60524 279.20538\n",
       "GO:0000049 -112.10974 -305.01798 -198.681544   30.34726 ⋯  -49.14478  98.69458\n",
       "GO:0000070   85.64553  -80.51403   27.900068   22.06178 ⋯  148.31763 468.85398\n",
       "GO:0000075 -182.82226  243.26839 -310.448432  -95.31839 ⋯  351.55559 340.49169\n",
       "GO:0000077   98.83398 -137.95637   -3.433012   24.79447 ⋯ -227.97192  23.96905\n",
       "GO:0000079   19.71054  214.65821  173.065206  230.18895 ⋯  103.71204 -13.55337\n",
       "           X3419450   X4365009   X5251890   X3434927   X1909626   X3317476  \n",
       "GO:0000014 -344.72800  -93.66374  312.03960  128.98375   11.36783   -1.26324\n",
       "GO:0000049   22.29536 -122.99321   87.40704  105.02687   16.52173  -73.70603\n",
       "GO:0000070 -123.62136  230.39826 -190.82424   93.22566   29.01474  -93.62974\n",
       "GO:0000075 -301.40615 -219.76431  443.68304  128.97161 -326.42242 -331.95046\n",
       "GO:0000077   30.24585   91.08608   72.76398  -59.47166  -13.87170  -37.07273\n",
       "GO:0000079 -242.85785 -151.64278  -84.50359 -280.88557  126.69796 -304.88230\n",
       "           X3749423    X4520275  \n",
       "GO:0000014 -157.503036  176.64686\n",
       "GO:0000049  127.766951 -154.39554\n",
       "GO:0000070    4.348178 -254.66210\n",
       "GO:0000075 -121.181986  303.36906\n",
       "GO:0000077 -162.351520  -90.35476\n",
       "GO:0000079 -233.473957 -201.72140"
      ]
     },
     "metadata": {},
     "output_type": "display_data"
    }
   ],
   "source": [
    "head(go_scores)"
   ]
  },
  {
   "cell_type": "code",
   "execution_count": 50,
   "id": "abe724a4-c3e5-4733-9285-993316b7d0a3",
   "metadata": {},
   "outputs": [
    {
     "data": {
      "text/html": [
       "TRUE"
      ],
      "text/latex": [
       "TRUE"
      ],
      "text/markdown": [
       "TRUE"
      ],
      "text/plain": [
       "[1] TRUE"
      ]
     },
     "metadata": {},
     "output_type": "display_data"
    }
   ],
   "source": [
    "all(colnames(go_scores) == colnames(react_scores))"
   ]
  },
  {
   "cell_type": "code",
   "execution_count": 53,
   "id": "c61f06f8-b3c7-40d8-bb56-775f68232265",
   "metadata": {},
   "outputs": [],
   "source": [
    "go_scores <- data.table(tibble::rownames_to_column(go_scores, \"path\"))"
   ]
  },
  {
   "cell_type": "code",
   "execution_count": 54,
   "id": "e7eb9477-2f03-4428-868e-5af2fea5bac2",
   "metadata": {},
   "outputs": [],
   "source": [
    "data.table::fwrite(go_scores, \"/scratch/tmp/dolgalev/castom-igex-revision/results/palas_liver_go_scores.csv\")"
   ]
  },
  {
   "cell_type": "code",
   "execution_count": 55,
   "id": "98409948-ac4a-43e9-9519-9726f38e5e02",
   "metadata": {},
   "outputs": [],
   "source": [
    "react_scores <- data.table(tibble::rownames_to_column(react_scores, \"path\"))"
   ]
  },
  {
   "cell_type": "code",
   "execution_count": 56,
   "id": "eb2b11d1-523c-4f6e-8e8f-e2cf8a0fdda7",
   "metadata": {},
   "outputs": [],
   "source": [
    "data.table::fwrite(react_scores, \"/scratch/tmp/dolgalev/castom-igex-revision/results/palas_liver_reactome_scores.csv\")"
   ]
  },
  {
   "cell_type": "code",
   "execution_count": 4,
   "id": "9f03df7b-de6f-43cc-baa2-56fcffaa4b47",
   "metadata": {},
   "outputs": [],
   "source": [
    "paths <- readr::read_csv(\"/scratch/tmp/dolgalev/castom-igex-revision/results/palas_liver_go_reactome_jaccard_cor.csv\")"
   ]
  },
  {
   "cell_type": "code",
   "execution_count": 15,
   "id": "af1d9a71-9353-4d6a-8c06-11b00df8dd39",
   "metadata": {},
   "outputs": [],
   "source": [
    "paths <- filter(paths, jaccard >= 0.1)"
   ]
  },
  {
   "cell_type": "code",
   "execution_count": 5,
   "id": "1b3ad783-6a50-4dae-a934-32180926f943",
   "metadata": {},
   "outputs": [],
   "source": [
    "library(patchwork)"
   ]
  },
  {
   "cell_type": "code",
   "execution_count": 16,
   "id": "17c31d4f-c6e2-4b08-9f3d-e49790833aa7",
   "metadata": {},
   "outputs": [],
   "source": [
    "go_reactome_cor <- ggplot(paths, aes(x = jaccard, y = cor)) +\n",
    "  geom_point() +\n",
    "  geom_smooth(method = \"lm\", color = \"red\", level = 0.999) +\n",
    "  ggpubr::stat_cor(r.accuracy = 0.001, size = 4) +\n",
    "  labs(x = \"Jaccard similarity coefficient\", y = expression(r^2)) +\n",
    "  theme_bw()"
   ]
  },
  {
   "cell_type": "code",
   "execution_count": 17,
   "id": "5a5aa830-8c18-487c-b4c9-5b4fca926974",
   "metadata": {},
   "outputs": [
    {
     "name": "stderr",
     "output_type": "stream",
     "text": [
      "\u001b[1m\u001b[22m`geom_smooth()` using formula = 'y ~ x'\n"
     ]
    },
    {
     "data": {
      "image/png": "[encoded data removed]",
      "text/plain": [
       "plot without title"
      ]
     },
     "metadata": {
      "image/png": {
       "height": 400,
       "width": 500
      }
     },
     "output_type": "display_data"
    }
   ],
   "source": [
    "options(repr.plot.height = 4, repr.plot.width = 5, repr.plot.res = 200)\n",
    "\n",
    "go_reactome_cor"
   ]
  },
  {
   "cell_type": "code",
   "execution_count": 18,
   "id": "462c974e-4e09-40d3-920a-dc237a18693e",
   "metadata": {},
   "outputs": [
    {
     "name": "stderr",
     "output_type": "stream",
     "text": [
      "\u001b[1m\u001b[22m`geom_smooth()` using formula = 'y ~ x'\n"
     ]
    }
   ],
   "source": [
    "ggsave(\"/scratch/tmp/dolgalev/castom-igex-revision/results/palas_liver_go_reactome_jaccard_cor_lm_2.pdf\", go_reactome_cor, height = 4, width = 5, dpi = 300)"
   ]
  },
  {
   "cell_type": "code",
   "execution_count": 19,
   "id": "02392e7c-6f85-4317-8f5e-25cd1b974351",
   "metadata": {},
   "outputs": [
    {
     "data": {
      "text/plain": [
       "List of 97\n",
       " $ line                      :List of 6\n",
       "  ..$ colour       : chr \"black\"\n",
       "  ..$ linewidth    : num 0.5\n",
       "  ..$ linetype     : num 1\n",
       "  ..$ lineend      : chr \"butt\"\n",
       "  ..$ arrow        : logi FALSE\n",
       "  ..$ inherit.blank: logi TRUE\n",
       "  ..- attr(*, \"class\")= chr [1:2] \"element_line\" \"element\"\n",
       " $ rect                      :List of 5\n",
       "  ..$ fill         : chr \"white\"\n",
       "  ..$ colour       : chr \"black\"\n",
       "  ..$ linewidth    : num 0.5\n",
       "  ..$ linetype     : num 1\n",
       "  ..$ inherit.blank: logi TRUE\n",
       "  ..- attr(*, \"class\")= chr [1:2] \"element_rect\" \"element\"\n",
       " $ text                      :List of 11\n",
       "  ..$ family       : chr \"\"\n",
       "  ..$ face         : chr \"plain\"\n",
       "  ..$ colour       : chr \"black\"\n",
       "  ..$ size         : num 11\n",
       "  ..$ hjust        : num 0.5\n",
       "  ..$ vjust        : num 0.5\n",
       "  ..$ angle        : num 0\n",
       "  ..$ lineheight   : num 0.9\n",
       "  ..$ margin       : 'margin' num [1:4] 0points 0points 0points 0points\n",
       "  .. ..- attr(*, \"unit\")= int 8\n",
       "  ..$ debug        : logi FALSE\n",
       "  ..$ inherit.blank: logi TRUE\n",
       "  ..- attr(*, \"class\")= chr [1:2] \"element_text\" \"element\"\n",
       " $ title                     : NULL\n",
       " $ aspect.ratio              : NULL\n",
       " $ axis.title                : NULL\n",
       " $ axis.title.x              :List of 11\n",
       "  ..$ family       : NULL\n",
       "  ..$ face         : NULL\n",
       "  ..$ colour       : NULL\n",
       "  ..$ size         : NULL\n",
       "  ..$ hjust        : NULL\n",
       "  ..$ vjust        : num 1\n",
       "  ..$ angle        : NULL\n",
       "  ..$ lineheight   : NULL\n",
       "  ..$ margin       : 'margin' num [1:4] 2.75points 0points 0points 0points\n",
       "  .. ..- attr(*, \"unit\")= int 8\n",
       "  ..$ debug        : NULL\n",
       "  ..$ inherit.blank: logi TRUE\n",
       "  ..- attr(*, \"class\")= chr [1:2] \"element_text\" \"element\"\n",
       " $ axis.title.x.top          :List of 11\n",
       "  ..$ family       : NULL\n",
       "  ..$ face         : NULL\n",
       "  ..$ colour       : NULL\n",
       "  ..$ size         : NULL\n",
       "  ..$ hjust        : NULL\n",
       "  ..$ vjust        : num 0\n",
       "  ..$ angle        : NULL\n",
       "  ..$ lineheight   : NULL\n",
       "  ..$ margin       : 'margin' num [1:4] 0points 0points 2.75points 0points\n",
       "  .. ..- attr(*, \"unit\")= int 8\n",
       "  ..$ debug        : NULL\n",
       "  ..$ inherit.blank: logi TRUE\n",
       "  ..- attr(*, \"class\")= chr [1:2] \"element_text\" \"element\"\n",
       " $ axis.title.x.bottom       : NULL\n",
       " $ axis.title.y              :List of 11\n",
       "  ..$ family       : NULL\n",
       "  ..$ face         : NULL\n",
       "  ..$ colour       : NULL\n",
       "  ..$ size         : NULL\n",
       "  ..$ hjust        : NULL\n",
       "  ..$ vjust        : num 1\n",
       "  ..$ angle        : num 90\n",
       "  ..$ lineheight   : NULL\n",
       "  ..$ margin       : 'margin' num [1:4] 0points 2.75points 0points 0points\n",
       "  .. ..- attr(*, \"unit\")= int 8\n",
       "  ..$ debug        : NULL\n",
       "  ..$ inherit.blank: logi TRUE\n",
       "  ..- attr(*, \"class\")= chr [1:2] \"element_text\" \"element\"\n",
       " $ axis.title.y.left         : NULL\n",
       " $ axis.title.y.right        :List of 11\n",
       "  ..$ family       : NULL\n",
       "  ..$ face         : NULL\n",
       "  ..$ colour       : NULL\n",
       "  ..$ size         : NULL\n",
       "  ..$ hjust        : NULL\n",
       "  ..$ vjust        : num 0\n",
       "  ..$ angle        : num -90\n",
       "  ..$ lineheight   : NULL\n",
       "  ..$ margin       : 'margin' num [1:4] 0points 0points 0points 2.75points\n",
       "  .. ..- attr(*, \"unit\")= int 8\n",
       "  ..$ debug        : NULL\n",
       "  ..$ inherit.blank: logi TRUE\n",
       "  ..- attr(*, \"class\")= chr [1:2] \"element_text\" \"element\"\n",
       " $ axis.text                 :List of 11\n",
       "  ..$ family       : NULL\n",
       "  ..$ face         : NULL\n",
       "  ..$ colour       : chr \"grey30\"\n",
       "  ..$ size         : 'rel' num 0.8\n",
       "  ..$ hjust        : NULL\n",
       "  ..$ vjust        : NULL\n",
       "  ..$ angle        : NULL\n",
       "  ..$ lineheight   : NULL\n",
       "  ..$ margin       : NULL\n",
       "  ..$ debug        : NULL\n",
       "  ..$ inherit.blank: logi TRUE\n",
       "  ..- attr(*, \"class\")= chr [1:2] \"element_text\" \"element\"\n",
       " $ axis.text.x               :List of 11\n",
       "  ..$ family       : NULL\n",
       "  ..$ face         : NULL\n",
       "  ..$ colour       : NULL\n",
       "  ..$ size         : NULL\n",
       "  ..$ hjust        : NULL\n",
       "  ..$ vjust        : num 1\n",
       "  ..$ angle        : NULL\n",
       "  ..$ lineheight   : NULL\n",
       "  ..$ margin       : 'margin' num [1:4] 2.2points 0points 0points 0points\n",
       "  .. ..- attr(*, \"unit\")= int 8\n",
       "  ..$ debug        : NULL\n",
       "  ..$ inherit.blank: logi TRUE\n",
       "  ..- attr(*, \"class\")= chr [1:2] \"element_text\" \"element\"\n",
       " $ axis.text.x.top           :List of 11\n",
       "  ..$ family       : NULL\n",
       "  ..$ face         : NULL\n",
       "  ..$ colour       : NULL\n",
       "  ..$ size         : NULL\n",
       "  ..$ hjust        : NULL\n",
       "  ..$ vjust        : num 0\n",
       "  ..$ angle        : NULL\n",
       "  ..$ lineheight   : NULL\n",
       "  ..$ margin       : 'margin' num [1:4] 0points 0points 2.2points 0points\n",
       "  .. ..- attr(*, \"unit\")= int 8\n",
       "  ..$ debug        : NULL\n",
       "  ..$ inherit.blank: logi TRUE\n",
       "  ..- attr(*, \"class\")= chr [1:2] \"element_text\" \"element\"\n",
       " $ axis.text.x.bottom        : NULL\n",
       " $ axis.text.y               :List of 11\n",
       "  ..$ family       : NULL\n",
       "  ..$ face         : NULL\n",
       "  ..$ colour       : NULL\n",
       "  ..$ size         : NULL\n",
       "  ..$ hjust        : num 1\n",
       "  ..$ vjust        : NULL\n",
       "  ..$ angle        : NULL\n",
       "  ..$ lineheight   : NULL\n",
       "  ..$ margin       : 'margin' num [1:4] 0points 2.2points 0points 0points\n",
       "  .. ..- attr(*, \"unit\")= int 8\n",
       "  ..$ debug        : NULL\n",
       "  ..$ inherit.blank: logi TRUE\n",
       "  ..- attr(*, \"class\")= chr [1:2] \"element_text\" \"element\"\n",
       " $ axis.text.y.left          : NULL\n",
       " $ axis.text.y.right         :List of 11\n",
       "  ..$ family       : NULL\n",
       "  ..$ face         : NULL\n",
       "  ..$ colour       : NULL\n",
       "  ..$ size         : NULL\n",
       "  ..$ hjust        : num 0\n",
       "  ..$ vjust        : NULL\n",
       "  ..$ angle        : NULL\n",
       "  ..$ lineheight   : NULL\n",
       "  ..$ margin       : 'margin' num [1:4] 0points 0points 0points 2.2points\n",
       "  .. ..- attr(*, \"unit\")= int 8\n",
       "  ..$ debug        : NULL\n",
       "  ..$ inherit.blank: logi TRUE\n",
       "  ..- attr(*, \"class\")= chr [1:2] \"element_text\" \"element\"\n",
       " $ axis.ticks                :List of 6\n",
       "  ..$ colour       : chr \"grey20\"\n",
       "  ..$ linewidth    : NULL\n",
       "  ..$ linetype     : NULL\n",
       "  ..$ lineend      : NULL\n",
       "  ..$ arrow        : logi FALSE\n",
       "  ..$ inherit.blank: logi TRUE\n",
       "  ..- attr(*, \"class\")= chr [1:2] \"element_line\" \"element\"\n",
       " $ axis.ticks.x              : NULL\n",
       " $ axis.ticks.x.top          : NULL\n",
       " $ axis.ticks.x.bottom       : NULL\n",
       " $ axis.ticks.y              : NULL\n",
       " $ axis.ticks.y.left         : NULL\n",
       " $ axis.ticks.y.right        : NULL\n",
       " $ axis.ticks.length         : 'simpleUnit' num 2.75points\n",
       "  ..- attr(*, \"unit\")= int 8\n",
       " $ axis.ticks.length.x       : NULL\n",
       " $ axis.ticks.length.x.top   : NULL\n",
       " $ axis.ticks.length.x.bottom: NULL\n",
       " $ axis.ticks.length.y       : NULL\n",
       " $ axis.ticks.length.y.left  : NULL\n",
       " $ axis.ticks.length.y.right : NULL\n",
       " $ axis.line                 : list()\n",
       "  ..- attr(*, \"class\")= chr [1:2] \"element_blank\" \"element\"\n",
       " $ axis.line.x               : NULL\n",
       " $ axis.line.x.top           : NULL\n",
       " $ axis.line.x.bottom        : NULL\n",
       " $ axis.line.y               : NULL\n",
       " $ axis.line.y.left          : NULL\n",
       " $ axis.line.y.right         : NULL\n",
       " $ legend.background         :List of 5\n",
       "  ..$ fill         : NULL\n",
       "  ..$ colour       : logi NA\n",
       "  ..$ linewidth    : NULL\n",
       "  ..$ linetype     : NULL\n",
       "  ..$ inherit.blank: logi TRUE\n",
       "  ..- attr(*, \"class\")= chr [1:2] \"element_rect\" \"element\"\n",
       " $ legend.margin             : 'margin' num [1:4] 5.5points 5.5points 5.5points 5.5points\n",
       "  ..- attr(*, \"unit\")= int 8\n",
       " $ legend.spacing            : 'simpleUnit' num 11points\n",
       "  ..- attr(*, \"unit\")= int 8\n",
       " $ legend.spacing.x          : NULL\n",
       " $ legend.spacing.y          : NULL\n",
       " $ legend.key                :List of 5\n",
       "  ..$ fill         : chr \"grey95\"\n",
       "  ..$ colour       : logi NA\n",
       "  ..$ linewidth    : NULL\n",
       "  ..$ linetype     : NULL\n",
       "  ..$ inherit.blank: logi TRUE\n",
       "  ..- attr(*, \"class\")= chr [1:2] \"element_rect\" \"element\"\n",
       " $ legend.key.size           : 'simpleUnit' num 1.2lines\n",
       "  ..- attr(*, \"unit\")= int 3\n",
       " $ legend.key.height         : NULL\n",
       " $ legend.key.width          : NULL\n",
       " $ legend.text               :List of 11\n",
       "  ..$ family       : NULL\n",
       "  ..$ face         : NULL\n",
       "  ..$ colour       : NULL\n",
       "  ..$ size         : 'rel' num 0.8\n",
       "  ..$ hjust        : NULL\n",
       "  ..$ vjust        : NULL\n",
       "  ..$ angle        : NULL\n",
       "  ..$ lineheight   : NULL\n",
       "  ..$ margin       : NULL\n",
       "  ..$ debug        : NULL\n",
       "  ..$ inherit.blank: logi TRUE\n",
       "  ..- attr(*, \"class\")= chr [1:2] \"element_text\" \"element\"\n",
       " $ legend.text.align         : NULL\n",
       " $ legend.title              :List of 11\n",
       "  ..$ family       : NULL\n",
       "  ..$ face         : NULL\n",
       "  ..$ colour       : NULL\n",
       "  ..$ size         : NULL\n",
       "  ..$ hjust        : num 0\n",
       "  ..$ vjust        : NULL\n",
       "  ..$ angle        : NULL\n",
       "  ..$ lineheight   : NULL\n",
       "  ..$ margin       : NULL\n",
       "  ..$ debug        : NULL\n",
       "  ..$ inherit.blank: logi TRUE\n",
       "  ..- attr(*, \"class\")= chr [1:2] \"element_text\" \"element\"\n",
       " $ legend.title.align        : NULL\n",
       " $ legend.position           : chr \"right\"\n",
       " $ legend.direction          : NULL\n",
       " $ legend.justification      : chr \"center\"\n",
       " $ legend.box                : NULL\n",
       " $ legend.box.just           : NULL\n",
       " $ legend.box.margin         : 'margin' num [1:4] 0cm 0cm 0cm 0cm\n",
       "  ..- attr(*, \"unit\")= int 1\n",
       " $ legend.box.background     : list()\n",
       "  ..- attr(*, \"class\")= chr [1:2] \"element_blank\" \"element\"\n",
       " $ legend.box.spacing        : 'simpleUnit' num 11points\n",
       "  ..- attr(*, \"unit\")= int 8\n",
       " $ panel.background          :List of 5\n",
       "  ..$ fill         : chr \"grey92\"\n",
       "  ..$ colour       : logi NA\n",
       "  ..$ linewidth    : NULL\n",
       "  ..$ linetype     : NULL\n",
       "  ..$ inherit.blank: logi TRUE\n",
       "  ..- attr(*, \"class\")= chr [1:2] \"element_rect\" \"element\"\n",
       " $ panel.border              : list()\n",
       "  ..- attr(*, \"class\")= chr [1:2] \"element_blank\" \"element\"\n",
       " $ panel.spacing             : 'simpleUnit' num 5.5points\n",
       "  ..- attr(*, \"unit\")= int 8\n",
       " $ panel.spacing.x           : NULL\n",
       " $ panel.spacing.y           : NULL\n",
       " $ panel.grid                :List of 6\n",
       "  ..$ colour       : chr \"white\"\n",
       "  ..$ linewidth    : NULL\n",
       "  ..$ linetype     : NULL\n",
       "  ..$ lineend      : NULL\n",
       "  ..$ arrow        : logi FALSE\n",
       "  ..$ inherit.blank: logi TRUE\n",
       "  ..- attr(*, \"class\")= chr [1:2] \"element_line\" \"element\"\n",
       " $ panel.grid.major          : NULL\n",
       " $ panel.grid.minor          :List of 6\n",
       "  ..$ colour       : NULL\n",
       "  ..$ linewidth    : 'rel' num 0.5\n",
       "  ..$ linetype     : NULL\n",
       "  ..$ lineend      : NULL\n",
       "  ..$ arrow        : logi FALSE\n",
       "  ..$ inherit.blank: logi TRUE\n",
       "  ..- attr(*, \"class\")= chr [1:2] \"element_line\" \"element\"\n",
       " $ panel.grid.major.x        : NULL\n",
       " $ panel.grid.major.y        : NULL\n",
       " $ panel.grid.minor.x        : NULL\n",
       " $ panel.grid.minor.y        : NULL\n",
       " $ panel.ontop               : logi FALSE\n",
       " $ plot.background           :List of 5\n",
       "  ..$ fill         : NULL\n",
       "  ..$ colour       : chr \"white\"\n",
       "  ..$ linewidth    : NULL\n",
       "  ..$ linetype     : NULL\n",
       "  ..$ inherit.blank: logi TRUE\n",
       "  ..- attr(*, \"class\")= chr [1:2] \"element_rect\" \"element\"\n",
       " $ plot.title                :List of 11\n",
       "  ..$ family       : NULL\n",
       "  ..$ face         : NULL\n",
       "  ..$ colour       : NULL\n",
       "  ..$ size         : 'rel' num 1.2\n",
       "  ..$ hjust        : num 0\n",
       "  ..$ vjust        : num 1\n",
       "  ..$ angle        : NULL\n",
       "  ..$ lineheight   : NULL\n",
       "  ..$ margin       : 'margin' num [1:4] 0points 0points 5.5points 0points\n",
       "  .. ..- attr(*, \"unit\")= int 8\n",
       "  ..$ debug        : NULL\n",
       "  ..$ inherit.blank: logi TRUE\n",
       "  ..- attr(*, \"class\")= chr [1:2] \"element_text\" \"element\"\n",
       " $ plot.title.position       : chr \"panel\"\n",
       " $ plot.subtitle             :List of 11\n",
       "  ..$ family       : NULL\n",
       "  ..$ face         : NULL\n",
       "  ..$ colour       : NULL\n",
       "  ..$ size         : NULL\n",
       "  ..$ hjust        : num 0\n",
       "  ..$ vjust        : num 1\n",
       "  ..$ angle        : NULL\n",
       "  ..$ lineheight   : NULL\n",
       "  ..$ margin       : 'margin' num [1:4] 0points 0points 5.5points 0points\n",
       "  .. ..- attr(*, \"unit\")= int 8\n",
       "  ..$ debug        : NULL\n",
       "  ..$ inherit.blank: logi TRUE\n",
       "  ..- attr(*, \"class\")= chr [1:2] \"element_text\" \"element\"\n",
       " $ plot.caption              :List of 11\n",
       "  ..$ family       : NULL\n",
       "  ..$ face         : NULL\n",
       "  ..$ colour       : NULL\n",
       "  ..$ size         : 'rel' num 0.8\n",
       "  ..$ hjust        : num 1\n",
       "  ..$ vjust        : num 1\n",
       "  ..$ angle        : NULL\n",
       "  ..$ lineheight   : NULL\n",
       "  ..$ margin       : 'margin' num [1:4] 5.5points 0points 0points 0points\n",
       "  .. ..- attr(*, \"unit\")= int 8\n",
       "  ..$ debug        : NULL\n",
       "  ..$ inherit.blank: logi TRUE\n",
       "  ..- attr(*, \"class\")= chr [1:2] \"element_text\" \"element\"\n",
       " $ plot.caption.position     : chr \"panel\"\n",
       " $ plot.tag                  :List of 11\n",
       "  ..$ family       : NULL\n",
       "  ..$ face         : NULL\n",
       "  ..$ colour       : NULL\n",
       "  ..$ size         : 'rel' num 1.2\n",
       "  ..$ hjust        : num 0.5\n",
       "  ..$ vjust        : num 0.5\n",
       "  ..$ angle        : NULL\n",
       "  ..$ lineheight   : NULL\n",
       "  ..$ margin       : NULL\n",
       "  ..$ debug        : NULL\n",
       "  ..$ inherit.blank: logi TRUE\n",
       "  ..- attr(*, \"class\")= chr [1:2] \"element_text\" \"element\"\n",
       " $ plot.tag.position         : chr \"topleft\"\n",
       " $ plot.margin               : 'margin' num [1:4] 5.5points 5.5points 5.5points 5.5points\n",
       "  ..- attr(*, \"unit\")= int 8\n",
       " $ strip.background          :List of 5\n",
       "  ..$ fill         : chr \"grey85\"\n",
       "  ..$ colour       : logi NA\n",
       "  ..$ linewidth    : NULL\n",
       "  ..$ linetype     : NULL\n",
       "  ..$ inherit.blank: logi TRUE\n",
       "  ..- attr(*, \"class\")= chr [1:2] \"element_rect\" \"element\"\n",
       " $ strip.background.x        : NULL\n",
       " $ strip.background.y        : NULL\n",
       " $ strip.clip                : chr \"inherit\"\n",
       " $ strip.placement           : chr \"inside\"\n",
       " $ strip.text                :List of 11\n",
       "  ..$ family       : NULL\n",
       "  ..$ face         : NULL\n",
       "  ..$ colour       : chr \"grey10\"\n",
       "  ..$ size         : 'rel' num 0.8\n",
       "  ..$ hjust        : NULL\n",
       "  ..$ vjust        : NULL\n",
       "  ..$ angle        : NULL\n",
       "  ..$ lineheight   : NULL\n",
       "  ..$ margin       : 'margin' num [1:4] 4.4points 4.4points 4.4points 4.4points\n",
       "  .. ..- attr(*, \"unit\")= int 8\n",
       "  ..$ debug        : NULL\n",
       "  ..$ inherit.blank: logi TRUE\n",
       "  ..- attr(*, \"class\")= chr [1:2] \"element_text\" \"element\"\n",
       " $ strip.text.x              : NULL\n",
       " $ strip.text.x.bottom       : NULL\n",
       " $ strip.text.x.top          : NULL\n",
       " $ strip.text.y              :List of 11\n",
       "  ..$ family       : NULL\n",
       "  ..$ face         : NULL\n",
       "  ..$ colour       : NULL\n",
       "  ..$ size         : NULL\n",
       "  ..$ hjust        : NULL\n",
       "  ..$ vjust        : NULL\n",
       "  ..$ angle        : num -90\n",
       "  ..$ lineheight   : NULL\n",
       "  ..$ margin       : NULL\n",
       "  ..$ debug        : NULL\n",
       "  ..$ inherit.blank: logi TRUE\n",
       "  ..- attr(*, \"class\")= chr [1:2] \"element_text\" \"element\"\n",
       " $ strip.text.y.left         :List of 11\n",
       "  ..$ family       : NULL\n",
       "  ..$ face         : NULL\n",
       "  ..$ colour       : NULL\n",
       "  ..$ size         : NULL\n",
       "  ..$ hjust        : NULL\n",
       "  ..$ vjust        : NULL\n",
       "  ..$ angle        : num 90\n",
       "  ..$ lineheight   : NULL\n",
       "  ..$ margin       : NULL\n",
       "  ..$ debug        : NULL\n",
       "  ..$ inherit.blank: logi TRUE\n",
       "  ..- attr(*, \"class\")= chr [1:2] \"element_text\" \"element\"\n",
       " $ strip.text.y.right        : NULL\n",
       " $ strip.switch.pad.grid     : 'simpleUnit' num 2.75points\n",
       "  ..- attr(*, \"unit\")= int 8\n",
       " $ strip.switch.pad.wrap     : 'simpleUnit' num 2.75points\n",
       "  ..- attr(*, \"unit\")= int 8\n",
       " - attr(*, \"class\")= chr [1:2] \"theme\" \"gg\"\n",
       " - attr(*, \"complete\")= logi TRUE\n",
       " - attr(*, \"validate\")= logi TRUE"
      ]
     },
     "metadata": {},
     "output_type": "display_data"
    }
   ],
   "source": [
    "theme_get()"
   ]
  },
  {
   "cell_type": "code",
   "execution_count": null,
   "id": "5939eac9-6b72-4504-a06e-f85b67963067",
   "metadata": {},
   "outputs": [],
   "source": []
  }
 ],
 "metadata": {
  "kernelspec": {
   "display_name": "R",
   "language": "R",
   "name": "ir"
  },
  "language_info": {
   "codemirror_mode": "r",
   "file_extension": ".r",
   "mimetype": "text/x-r-source",
   "name": "R",
   "pygments_lexer": "r",
   "version": "4.2.1"
  }
 },
 "nbformat": 4,
 "nbformat_minor": 5
}
